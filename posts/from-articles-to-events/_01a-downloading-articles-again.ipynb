{
 "cells": [
  {
   "cell_type": "raw",
   "metadata": {},
   "source": [
    "---\n",
    "title: From Articles to Events, Part Ia\n",
    "date: 2024-02-28\n",
    "description: Downloading lots of articles.\n",
    "categories: [Articles to Events, Web Scraping]\n",
    "draft: false\n",
    "image: newspaper-protest.webp\n",
    "author-meta: Neal Caren, Associate Professor, Department of Sociology, University of North Carolina, Chapel Hill\n",
    "---"
   ]
  },
  {
   "cell_type": "markdown",
   "metadata": {},
   "source": [
    "This is part one of an attempt to expand on a working paper, \"[Extracting protest events from newspaper articles with ChatGPT](https://osf.io/dvht7)\" that I wrote with Andy Andrews and Rashawn Ray. In that paper, we tested whether ChatGPT could replace my undergraduate RAs in extracting details about Black Lives Matter protests from media accounts. This time, I want to expand it to include more articles, movements, and variables.\n",
    "\n",
    "In this part, I largely copy [old code on downloading](https://nealcaren.github.io/notes/posts/scraping/bulk-download.html) to help gather a couple of thousand articles from the [Crowd Counting Consortium](https://github.com/nonviolent-action-lab/crowd-counting-consortium)'s dataset. Their dataset includes event characteristics for over a hundred thousand protest events and the source web addresses. I aim to test if GPT models can replicate their hand-coding results, but this script just gets the data."
   ]
  },
  {
   "cell_type": "code",
   "execution_count": 41,
   "metadata": {},
   "outputs": [
    {
     "name": "stdout",
     "output_type": "stream",
     "text": [
      "Requirement already satisfied: undetected-chromedriver in /Users/nealcaren/anaconda3/envs/code/lib/python3.10/site-packages (3.5.5)\n",
      "Requirement already satisfied: selenium>=4.9.0 in /Users/nealcaren/anaconda3/envs/code/lib/python3.10/site-packages (from undetected-chromedriver) (4.18.1)\n",
      "Requirement already satisfied: requests in /Users/nealcaren/anaconda3/envs/code/lib/python3.10/site-packages (from undetected-chromedriver) (2.31.0)\n",
      "Requirement already satisfied: websockets in /Users/nealcaren/anaconda3/envs/code/lib/python3.10/site-packages (from undetected-chromedriver) (10.4)\n",
      "Requirement already satisfied: urllib3<3,>=1.26 in /Users/nealcaren/anaconda3/envs/code/lib/python3.10/site-packages (from urllib3[socks]<3,>=1.26->selenium>=4.9.0->undetected-chromedriver) (1.26.18)\n",
      "Requirement already satisfied: trio~=0.17 in /Users/nealcaren/anaconda3/envs/code/lib/python3.10/site-packages (from selenium>=4.9.0->undetected-chromedriver) (0.24.0)\n",
      "Requirement already satisfied: trio-websocket~=0.9 in /Users/nealcaren/anaconda3/envs/code/lib/python3.10/site-packages (from selenium>=4.9.0->undetected-chromedriver) (0.11.1)\n",
      "Requirement already satisfied: certifi>=2021.10.8 in /Users/nealcaren/anaconda3/envs/code/lib/python3.10/site-packages (from selenium>=4.9.0->undetected-chromedriver) (2024.2.2)\n",
      "Requirement already satisfied: typing_extensions>=4.9.0 in /Users/nealcaren/anaconda3/envs/code/lib/python3.10/site-packages (from selenium>=4.9.0->undetected-chromedriver) (4.9.0)\n",
      "Requirement already satisfied: charset-normalizer<4,>=2 in /Users/nealcaren/anaconda3/envs/code/lib/python3.10/site-packages (from requests->undetected-chromedriver) (2.0.4)\n",
      "Requirement already satisfied: idna<4,>=2.5 in /Users/nealcaren/anaconda3/envs/code/lib/python3.10/site-packages (from requests->undetected-chromedriver) (3.4)\n",
      "Requirement already satisfied: attrs>=20.1.0 in /Users/nealcaren/anaconda3/envs/code/lib/python3.10/site-packages (from trio~=0.17->selenium>=4.9.0->undetected-chromedriver) (23.1.0)\n",
      "Requirement already satisfied: sortedcontainers in /Users/nealcaren/anaconda3/envs/code/lib/python3.10/site-packages (from trio~=0.17->selenium>=4.9.0->undetected-chromedriver) (2.4.0)\n",
      "Requirement already satisfied: outcome in /Users/nealcaren/anaconda3/envs/code/lib/python3.10/site-packages (from trio~=0.17->selenium>=4.9.0->undetected-chromedriver) (1.3.0.post0)\n",
      "Requirement already satisfied: sniffio>=1.3.0 in /Users/nealcaren/anaconda3/envs/code/lib/python3.10/site-packages (from trio~=0.17->selenium>=4.9.0->undetected-chromedriver) (1.3.0)\n",
      "Requirement already satisfied: exceptiongroup in /Users/nealcaren/anaconda3/envs/code/lib/python3.10/site-packages (from trio~=0.17->selenium>=4.9.0->undetected-chromedriver) (1.2.0)\n",
      "Requirement already satisfied: wsproto>=0.14 in /Users/nealcaren/anaconda3/envs/code/lib/python3.10/site-packages (from trio-websocket~=0.9->selenium>=4.9.0->undetected-chromedriver) (1.2.0)\n",
      "Requirement already satisfied: PySocks!=1.5.7,<2.0,>=1.5.6 in /Users/nealcaren/anaconda3/envs/code/lib/python3.10/site-packages (from urllib3[socks]<3,>=1.26->selenium>=4.9.0->undetected-chromedriver) (1.7.1)\n",
      "Requirement already satisfied: h11<1,>=0.9.0 in /Users/nealcaren/anaconda3/envs/code/lib/python3.10/site-packages (from wsproto>=0.14->trio-websocket~=0.9->selenium>=4.9.0->undetected-chromedriver) (0.14.0)\n",
      "^C\n",
      "\u001b[31mERROR: Operation cancelled by user\u001b[0m\u001b[31m\n",
      "\u001b[0mNote: you may need to restart the kernel to use updated packages.\n"
     ]
    }
   ],
   "source": [
    "pip install undetected-chromedriver"
   ]
  },
  {
   "cell_type": "code",
   "execution_count": 17,
   "metadata": {},
   "outputs": [],
   "source": [
    "import os\n",
    "import asyncio\n",
    "import nest_asyncio\n",
    "from random import shuffle\n",
    "from collections import Counter\n",
    "from urllib.parse import urlparse\n",
    "import re\n",
    "from concurrent.futures import ThreadPoolExecutor\n",
    "\n",
    "from slugify import slugify\n",
    "\n",
    "import pandas as pd\n"
   ]
  },
  {
   "cell_type": "code",
   "execution_count": null,
   "metadata": {},
   "outputs": [
    {
     "name": "stdout",
     "output_type": "stream",
     "text": [
      "106443\n"
     ]
    }
   ],
   "source": [
    "df = pd.read_csv(\n",
    "    \"https://github.com/nonviolent-action-lab/crowd-counting-consortium/raw/master/ccc_compiled_2021-present.csv\",\n",
    "    encoding=\"latin\",\n",
    "    low_memory=False,\n",
    ")\n",
    "print(len(df))"
   ]
  },
  {
   "cell_type": "code",
   "execution_count": null,
   "metadata": {},
   "outputs": [
    {
     "name": "stdout",
     "output_type": "stream",
     "text": [
      "39808\n",
      "17258\n",
      "8826\n",
      "3574\n"
     ]
    }
   ],
   "source": [
    "# Limit to just 2023 or 2024\n",
    "df = df[pd.to_datetime(df[\"date\"]).dt.year.isin([2023,2024])]\n",
    "print(len(df))\n",
    "\n",
    "# Keep only with one source \n",
    "df.dropna(subset=['source_2'], inplace=True)\n",
    "len(df)\n",
    "df['Keep'] = True\n",
    "print(df['Keep'].sum())\n",
    "\n",
    "# Step 2: Eliminate social media URLs and ensure they contain 'http'\n",
    "social_media_domains = [\"twitter.com\", \"youtube.com\", \"facebook.com\", \"instagram.com\", \"tiktok.com\", \"bsky.com\"]\n",
    "for sm_domain in social_media_domains:\n",
    "    df['Keep'] = df['Keep'] & (~df['source_1'].str.contains(sm_domain) & df['source_1'].str.contains(\"http\"))\n",
    "\n",
    "print(df['Keep'].sum())\n",
    "\n",
    "# Step 3: Filter URLs to keep only those that appear once\n",
    "# Count occurrences of each URL\n",
    "url_counts = df.loc[df['Keep'], 'source_1'].value_counts()\n",
    "\n",
    "# Here, we use 'map' to align counts with the original DataFrame, checking if each count equals 1\n",
    "unique_url_mask = df['source_1'].map(url_counts) == 1\n",
    "\n",
    "# Update the 'Keep' column: True only if previously True AND the URL is unique (appears once)\n",
    "df['Keep'] = df['Keep'] & unique_url_mask\n",
    "\n",
    "print(df['Keep'].sum())\n"
   ]
  },
  {
   "cell_type": "code",
   "execution_count": null,
   "metadata": {},
   "outputs": [],
   "source": [
    "# Save the subset\n",
    "\n",
    "df = df[df['Keep']]\n",
    "df.to_json('ccc_sample.json', orient='records')"
   ]
  },
  {
   "cell_type": "code",
   "execution_count": null,
   "metadata": {},
   "outputs": [],
   "source": [
    "# Load the subset and make a list of the URLS\n",
    "\n",
    "df = pd.read_json('ccc_sample.json')\n",
    "urls = df['source_1'].values\n",
    "shuffle(urls)"
   ]
  },
  {
   "cell_type": "code",
   "execution_count": 63,
   "metadata": {},
   "outputs": [
    {
     "name": "stdout",
     "output_type": "stream",
     "text": [
      "File HTML/www-bozemandailychronicle-com-news-international-protestors-picket-testers-weekend-fundraiser-article-241b4486-bec9-11ee-8e46-db5dbc78639a-html.html already exists, skipping download.\n"
     ]
    }
   ],
   "source": [
    "import undetected_chromedriver as uc\n",
    "\n",
    "import os\n",
    "\n",
    "\n",
    "# Ensure the HTML directory exists\n",
    "html_dir = \"HTML\"\n",
    "os.makedirs(html_dir, exist_ok=True)\n",
    "\n",
    "# List of URLs that couldn't be fetched\n",
    "bad_urls = []\n",
    "\n",
    "# User agent to be used for all requests\n",
    "\n",
    "# User agent to be used for all requests\n",
    "\n",
    "def new_driver():\n",
    "    import undetected_chromedriver as uc\n",
    "\n",
    "    options = uc.ChromeOptions()\n",
    "    options.add_argument('--load-extension=bypass-paywalls-chrome-clean-3.6.1.0.crx')\n",
    "    driver = uc.Chrome(headless=True,\n",
    "                       options=options,\n",
    "                       use_subprocess=False)\n",
    "    return driver\n",
    "\n",
    "def slugify(url):\n",
    "    \"\"\"Create a slug from a URL to use as a filename.\"\"\"\n",
    "    parse_result = urlparse(url)\n",
    "    filename = re.sub(r'[^a-zA-Z0-9]+', '-', parse_result.netloc + parse_result.path)\n",
    "    return filename.strip('-')\n",
    "\n",
    "def fetch(url, driver = new_driver()):\n",
    "    filename = slugify(url) + \".html\"\n",
    "    file_path = os.path.join(html_dir, filename)\n",
    "\n",
    "    if os.path.isfile(file_path):\n",
    "        print(f\"File {file_path} already exists, skipping download.\")\n",
    "        return\n",
    "\n",
    "    if url in bad_urls:\n",
    "        print(f\"Skipping bad URL: {url}\")\n",
    "        return\n",
    "\n",
    "    try:\n",
    "        # Setup Selenium with Chrome\n",
    "\n",
    "        # Navigate to the URL\n",
    "        driver.get(url)\n",
    "        content = driver.page_source\n",
    "        # Save the content to a file\n",
    "        with open(file_path, \"w\", encoding=\"utf-8\") as file:\n",
    "            file.write(content)\n",
    "    \n",
    "        print(f\"Content from {url} has been saved to {file_path}\")\n",
    "\n",
    "    except Exception as e:\n",
    "        print(f\"An error occurred while fetching {url}: {e}\")\n",
    "        bad_urls.append(url)\n",
    "    finally:\n",
    "        driver.quit()\n",
    "\n",
    "# Example usage:\n",
    "url = 'https://pantagraph.com/news/local/video-activists-gather-for-a-rally-in-support-of-palestinians-on-monday-in-normal/video_21ebf46a-1b3b-54f7-a761-457a60930271.html'\n",
    "url = \"https://www.bozemandailychronicle.com/news/international/protestors-picket-testers-weekend-fundraiser/article_241b4486-bec9-11ee-8e46-db5dbc78639a.html\"\n",
    "fetch(url)\n"
   ]
  },
  {
   "cell_type": "code",
   "execution_count": 55,
   "metadata": {},
   "outputs": [],
   "source": [
    "def bulk_download(urls):\n",
    "    # Number of drivers/workers you want to use\n",
    "    num_drivers = 2\n",
    "\n",
    "    # Initialize the drivers\n",
    "    drivers = {_:new_driver() for _ in range(num_drivers)}\n",
    "\n",
    "    # Use ThreadPoolExecutor to manage parallel execution\n",
    "    with ThreadPoolExecutor(max_workers=num_drivers) as executor:\n",
    "        # Create a future for each URL. Assign each driver in a round-robin fashion.\n",
    "        futures = [executor.submit(fetch, url, drivers[i % num_drivers]) for i, url in enumerate(urls)]\n",
    "\n",
    "        # Optionally, you can wait for all futures to complete and handle their results\n",
    "        for future in futures:\n",
    "            future.result()  # This will re-raise any exceptions caught during the fetch execution\n",
    "\n",
    "    # Cleanup: Quit drivers after the tasks are done\n",
    "    for i in range(num_drivers):\n",
    "        drivers[i].quit()\n"
   ]
  },
  {
   "cell_type": "code",
   "execution_count": 56,
   "metadata": {},
   "outputs": [
    {
     "name": "stdout",
     "output_type": "stream",
     "text": [
      "File HTML/www-mobilize-us-mobilize-event-545609.html already exists, skipping download.File HTML/www-wral-com-story-local-jewish-community-plans-gathering-in-support-of-israel-on-monday-night-21088078.html already exists, skipping download.\n",
      "\n",
      "Content from https://www.fox13news.com/news/the-people-of-israel-live-hundreds-rally-in-solidarity-with-israel-at-curtis-hixon-park has been saved to HTML/www-fox13news-com-news-the-people-of-israel-live-hundreds-rally-in-solidarity-with-israel-at-curtis-hixon-park.html\n",
      "Content from https://www.channel3000.com/news/all-i-want-is-just-for-it-to-stop-calls-for-support-peace-at-pro/article_fdf4876c-6fbe-11ee-883f-abffc254bea0.html has been saved to HTML/www-channel3000-com-news-all-i-want-is-just-for-it-to-stop-calls-for-support-peace-at-pro-article-fdf4876c-6fbe-11ee-883f-abffc254bea0-html.html\n"
     ]
    }
   ],
   "source": [
    "bulk_download(urls[:4])"
   ]
  },
  {
   "cell_type": "code",
   "execution_count": 20,
   "metadata": {},
   "outputs": [],
   "source": [
    "user_agent = '''Mozilla/5.0 (Macintosh; Intel Mac OS X 10_15_7) AppleWebKit/537.36 (KHTML, like Gecko) Chrome/125.0.0.0 Safari/537.36'''"
   ]
  },
  {
   "cell_type": "code",
   "execution_count": 18,
   "metadata": {},
   "outputs": [],
   "source": [
    "def slugurl(url):\n",
    "    filename = slugify(url) + \".html\"\n",
    "    file_path = os.path.join('HTML', filename)\n",
    "    return file_path\n",
    "\n",
    "slug = slugurl(url)"
   ]
  },
  {
   "cell_type": "code",
   "execution_count": 19,
   "metadata": {},
   "outputs": [],
   "source": [
    "import subprocess\n",
    "\n",
    "slug = slugurl(url)\n",
    "command = f'''shot-scraper html {url} -o {slug} --bypass-csp --user-agent \"{user_agent}\" '''\n",
    "process = subprocess.run(command, shell=True, text=True, capture_output=True)\n"
   ]
  },
  {
   "cell_type": "code",
   "execution_count": 58,
   "metadata": {},
   "outputs": [
    {
     "name": "stdout",
     "output_type": "stream",
     "text": [
      "{'title': \"Protestors picket Tester's weekend fundraiser\", 'byline': 'Lorea Zabaleta', 'dir': None, 'lang': 'en', 'content': '<div id=\"readability-page-1\" class=\"page\"><div id=\"modal-offers-tab\" data-active-class=\"offer-tab\" data-scrollable=\"true\">\\n\\n                        <template>\\n                            <div class=\"promo-error alert alert-warning\">\\n    <p><strong>Sorry</strong>, an error occurred.</p>\\n</div></template><template><div class=\"promotion-service subscription-service panel panel-default\">\\n    <h4 class=\"method-featured\"></h4>\\n    <h3 class=\"method-header\"></h3>\\n    <div class=\"method-image\"></div>\\n    <div class=\"offer-details\">\\n        <p class=\"offer-rate\"></p>\\n        <p class=\"offer-limits\"></p>\\n        <p class=\"offer-cycle\"></p>\\n        <p class=\"offer-savings\"></p>\\n        <p class=\"offer-cancel\"></p>\\n    </div>\\n\\n    <div class=\"method-footer\">\\n        <a data-subscription-service=\"\" class=\"method-link btn btn-primary btn-lg no-services\">Get Started</a>\\n    </div></div></template>\\n\\n                        <p>A subscription is required in order to continue. Click on \\'Subscribe Now\\' for our latest subscription offers. If you are already a subscriber, please log in now to access your digital content. If you have trouble subscribing please call 406-587-4491</p>\\n                        \\n                        \\n                        \\n                        \\n\\n                        <p>Secure transaction. Cancel anytime.</p></div><div id=\"user-modal-tab-signup-success\">\\n\\n                                \\n                                \\n                                <p><strong>Thank you <span></span></strong>.</p>\\n                                <p>Your account has been registered, and you are now logged in.</p>\\n                                \\n                                <p>Check your email for details.</p>\\n                            </div><div id=\"user-modal-tab-forgot\">\\n                        <p>Submitting this form below will send a message to your email with a link to change your password.</p>\\n\\n    </div><div id=\"user-modal-tab-forgot-success\">\\n                    \\n                    \\n                    <p>An email message containing instructions on how to reset your password has been sent to the email address listed on your account.</p>\\n                \\n                </div><div id=\"user-modal-tab-purchase-success\">\\n                            <div id=\"user-modal-signup-success-tab\">\\n\\n                                \\n                                \\n                                    <p>\\n                                        <strong>Thank you<span></span></strong>.\\n                                    </p>\\n                                    <p>\\n                                        \\n                                        <span>Your purchase was successful, and you are now logged in.</span>\\n                                    </p>\\n                                \\n                            </div>\\n                            \\n                            <div id=\"modal-purchase-receipt\">\\n                                <template data-currency-symbol-before=\"$\" data-currency-symbol-after=\"\">\\n                                    <h4 class=\"service-name\"></h4>\\n                                    <div class=\"table-responsive\">\\n                                        <table class=\"table\">\\n                                            <tbody>\\n                                                <tr id=\"purchase-receipt-rate\">\\n                                                    <td class=\"text-muted\">Rate:</td>\\n                                                    <td class=\"service-rate\"></td>\\n                                                </tr>\\n                                                <tr id=\"purchase-receipt-starts\" class=\"purchase-standard\">\\n                                                    <td class=\"text-muted\">Begins:</td>\\n                                                    <td class=\"service-start\"></td>\\n                                                </tr>\\n                                                <tr id=\"purchase-receipt-transaction\" class=\"purchase-standard\">\\n                                                    <td class=\"text-muted\">Transaction ID:</td>\\n                                                    <td class=\"transaction-id\"></td>\\n                                                </tr>\\n                                            </tbody>\\n                                        </table>\\n                                    </div>\\n                                </template>\\n                            \\n                                \\n                            \\n                                <p>A receipt was sent to your email.</p>\\n                            \\n                            </div>\\n                        </div></div>', 'textContent': \"\\n\\n                        \\n\\n                        A subscription is required in order to continue. Click on 'Subscribe Now' for our latest subscription offers. If you are already a subscriber, please log in now to access your digital content. If you have trouble subscribing please call 406-587-4491\\n                        \\n                        \\n                        \\n                        \\n\\n                        Secure transaction. Cancel anytime.\\n\\n                                \\n                                \\n                                Thank you .\\n                                Your account has been registered, and you are now logged in.\\n                                \\n                                Check your email for details.\\n                            \\n                        Submitting this form below will send a message to your email with a link to change your password.\\n\\n    \\n                    \\n                    \\n                    An email message containing instructions on how to reset your password has been sent to the email address listed on your account.\\n                \\n                \\n                            \\n\\n                                \\n                                \\n                                    \\n                                        Thank you.\\n                                    \\n                                    \\n                                        \\n                                        Your purchase was successful, and you are now logged in.\\n                                    \\n                                \\n                            \\n                            \\n                            \\n                                \\n                            \\n                                \\n                            \\n                                A receipt was sent to your email.\\n                            \\n                            \\n                        \", 'length': 1970, 'excerpt': 'About three dozen Montanans gathered in unseasonably warm weather outside a house over the weekend to disrupt a private fundraising event for Sen. Jon Tester.', 'siteName': 'Bozeman Daily Chronicle', 'publishedTime': None}\n"
     ]
    }
   ],
   "source": [
    "import subprocess\n",
    "import json\n",
    "\n",
    "# Command line to be executed\n",
    "command = f\"\"\"\n",
    "shot-scraper javascript \"{url}\" --bypass-csp --user-agent \"{user_agent}\" \"async () => {{\n",
    "  const readability = await import('https://cdn.skypack.dev/@mozilla/readability');\n",
    "  return (new readability.Readability(document)).parse();\n",
    "}}\"\n",
    "\"\"\"\n",
    "\n",
    "# Run the command line\n",
    "process = subprocess.run(command, shell=True, text=True, capture_output=True)\n",
    "\n",
    "# Check if the command was successful\n",
    "if process.returncode == 0:\n",
    "    # Assuming the output is JSON, we can parse it\n",
    "    result = json.loads(process.stdout)\n",
    "    print(result)\n",
    "else:\n",
    "    print(\"Error running command:\", process.stderr)"
   ]
  },
  {
   "cell_type": "code",
   "execution_count": 31,
   "metadata": {},
   "outputs": [],
   "source": [
    "from selenium import webdriver\n",
    "import undetected_chromedriver as uc\n",
    "\n",
    "\n",
    "options = uc.ChromeOptions()\n",
    "options.add_argument('--load-extension=bypass-paywalls-chrome-clean')\n",
    "uc_driver = uc.Chrome(headless=True,\n",
    "                       options=options,\n",
    "                       use_subprocess=False)\n"
   ]
  },
  {
   "cell_type": "code",
   "execution_count": 27,
   "metadata": {},
   "outputs": [],
   "source": [
    "\n",
    "\n",
    "\n",
    "options = webdriver.ChromeOptions()\n",
    "options.add_argument(\"--headless=new\")\n",
    "options.add_argument('--load-extension=bypass-paywalls-chrome-clean')\n",
    "options.add_argument(f\"--user-agent={user_agent}\")\n",
    "selenium_bypass_driver = webdriver.Chrome(options=options)\n",
    "\n",
    "options = webdriver.ChromeOptions()\n",
    "options.add_argument(\"--headless=True\")\n",
    "options.add_argument(f\"--user-agent={user_agent}\")\n",
    "selenium_driver = webdriver.Chrome(options=options)\n"
   ]
  },
  {
   "cell_type": "code",
   "execution_count": 28,
   "metadata": {},
   "outputs": [
    {
     "data": {
      "text/plain": [
       "True"
      ]
     },
     "execution_count": 28,
     "metadata": {},
     "output_type": "execute_result"
    }
   ],
   "source": [
    "url = 'https://www.fox13news.com/news/the-people-of-israel-live-hundreds-rally-in-solidarity-with-israel-at-curtis-hixon-park'\n",
    "#url = 'https://www.nytimes.com/2024/03/25/nyregion/trump-bond-reduced.html'\n",
    "selenium_driver.get(url)\n",
    "selenium_driver.get_screenshot_as_file('nyt.png')"
   ]
  },
  {
   "cell_type": "code",
   "execution_count": 29,
   "metadata": {},
   "outputs": [
    {
     "data": {
      "text/plain": [
       "True"
      ]
     },
     "execution_count": 29,
     "metadata": {},
     "output_type": "execute_result"
    }
   ],
   "source": [
    "selenium_bypass_driver.get(url)\n",
    "selenium_driver.get_screenshot_as_file('nyt_bp.png')"
   ]
  },
  {
   "cell_type": "code",
   "execution_count": 32,
   "metadata": {},
   "outputs": [
    {
     "data": {
      "text/plain": [
       "True"
      ]
     },
     "execution_count": 32,
     "metadata": {},
     "output_type": "execute_result"
    }
   ],
   "source": [
    "uc_driver.get(url)\n",
    "uc_driver.get_screenshot_as_file('nyt_ul.png')"
   ]
  },
  {
   "cell_type": "code",
   "execution_count": 84,
   "metadata": {},
   "outputs": [],
   "source": [
    "def slugurl(url):\n",
    "    filename = slugify(url) + \".html\"\n",
    "    file_path = os.path.join('HTML', filename)\n",
    "    return file_path\n",
    "file_path = slugurl(url)"
   ]
  },
  {
   "cell_type": "code",
   "execution_count": 81,
   "metadata": {},
   "outputs": [],
   "source": [
    "content = driver.page_source\n",
    "with open(file_path, \"w\", encoding=\"utf-8\") as file:\n",
    "    file.write(content)"
   ]
  },
  {
   "cell_type": "code",
   "execution_count": null,
   "metadata": {},
   "outputs": [],
   "source": []
  }
 ],
 "metadata": {
  "kernelspec": {
   "display_name": "code",
   "language": "python",
   "name": "python3"
  },
  "language_info": {
   "codemirror_mode": {
    "name": "ipython",
    "version": 3
   },
   "file_extension": ".py",
   "mimetype": "text/x-python",
   "name": "python",
   "nbconvert_exporter": "python",
   "pygments_lexer": "ipython3",
   "version": "3.10.13"
  }
 },
 "nbformat": 4,
 "nbformat_minor": 2
}
