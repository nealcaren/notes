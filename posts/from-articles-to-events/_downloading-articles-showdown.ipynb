{
 "cells": [
  {
   "cell_type": "raw",
   "metadata": {},
   "source": [
    "---\n",
    "title: From Articles to Events, Part Ia\n",
    "date: 2024-02-28\n",
    "description: Downloading lots of articles.\n",
    "categories: [Articles to Events, Web Scraping]\n",
    "draft: false\n",
    "image: newspaper-protest.webp\n",
    "author-meta: Neal Caren, Associate Professor, Department of Sociology, University of North Carolina, Chapel Hill\n",
    "---"
   ]
  },
  {
   "cell_type": "markdown",
   "metadata": {},
   "source": [
    "This is part one of an attempt to expand on a working paper, \"[Extracting protest events from newspaper articles with ChatGPT](https://osf.io/dvht7)\" that I wrote with Andy Andrews and Rashawn Ray. In that paper, we tested whether ChatGPT could replace my undergraduate RAs in extracting details about Black Lives Matter protests from media accounts. This time, I want to expand it to include more articles, movements, and variables.\n",
    "\n",
    "In this part, I largely copy [old code on downloading](https://nealcaren.github.io/notes/posts/scraping/bulk-download.html) to help gather a couple of thousand articles from the [Crowd Counting Consortium](https://github.com/nonviolent-action-lab/crowd-counting-consortium)'s dataset. Their dataset includes event characteristics for over a hundred thousand protest events and the source web addresses. I aim to test if GPT models can replicate their hand-coding results, but this script just gets the data."
   ]
  },
  {
   "cell_type": "code",
   "execution_count": 41,
   "metadata": {},
   "outputs": [
    {
     "name": "stdout",
     "output_type": "stream",
     "text": [
      "Requirement already satisfied: undetected-chromedriver in /Users/nealcaren/anaconda3/envs/code/lib/python3.10/site-packages (3.5.5)\n",
      "Requirement already satisfied: selenium>=4.9.0 in /Users/nealcaren/anaconda3/envs/code/lib/python3.10/site-packages (from undetected-chromedriver) (4.18.1)\n",
      "Requirement already satisfied: requests in /Users/nealcaren/anaconda3/envs/code/lib/python3.10/site-packages (from undetected-chromedriver) (2.31.0)\n",
      "Requirement already satisfied: websockets in /Users/nealcaren/anaconda3/envs/code/lib/python3.10/site-packages (from undetected-chromedriver) (10.4)\n",
      "Requirement already satisfied: urllib3<3,>=1.26 in /Users/nealcaren/anaconda3/envs/code/lib/python3.10/site-packages (from urllib3[socks]<3,>=1.26->selenium>=4.9.0->undetected-chromedriver) (1.26.18)\n",
      "Requirement already satisfied: trio~=0.17 in /Users/nealcaren/anaconda3/envs/code/lib/python3.10/site-packages (from selenium>=4.9.0->undetected-chromedriver) (0.24.0)\n",
      "Requirement already satisfied: trio-websocket~=0.9 in /Users/nealcaren/anaconda3/envs/code/lib/python3.10/site-packages (from selenium>=4.9.0->undetected-chromedriver) (0.11.1)\n",
      "Requirement already satisfied: certifi>=2021.10.8 in /Users/nealcaren/anaconda3/envs/code/lib/python3.10/site-packages (from selenium>=4.9.0->undetected-chromedriver) (2024.2.2)\n",
      "Requirement already satisfied: typing_extensions>=4.9.0 in /Users/nealcaren/anaconda3/envs/code/lib/python3.10/site-packages (from selenium>=4.9.0->undetected-chromedriver) (4.9.0)\n",
      "Requirement already satisfied: charset-normalizer<4,>=2 in /Users/nealcaren/anaconda3/envs/code/lib/python3.10/site-packages (from requests->undetected-chromedriver) (2.0.4)\n",
      "Requirement already satisfied: idna<4,>=2.5 in /Users/nealcaren/anaconda3/envs/code/lib/python3.10/site-packages (from requests->undetected-chromedriver) (3.4)\n",
      "Requirement already satisfied: attrs>=20.1.0 in /Users/nealcaren/anaconda3/envs/code/lib/python3.10/site-packages (from trio~=0.17->selenium>=4.9.0->undetected-chromedriver) (23.1.0)\n",
      "Requirement already satisfied: sortedcontainers in /Users/nealcaren/anaconda3/envs/code/lib/python3.10/site-packages (from trio~=0.17->selenium>=4.9.0->undetected-chromedriver) (2.4.0)\n",
      "Requirement already satisfied: outcome in /Users/nealcaren/anaconda3/envs/code/lib/python3.10/site-packages (from trio~=0.17->selenium>=4.9.0->undetected-chromedriver) (1.3.0.post0)\n",
      "Requirement already satisfied: sniffio>=1.3.0 in /Users/nealcaren/anaconda3/envs/code/lib/python3.10/site-packages (from trio~=0.17->selenium>=4.9.0->undetected-chromedriver) (1.3.0)\n",
      "Requirement already satisfied: exceptiongroup in /Users/nealcaren/anaconda3/envs/code/lib/python3.10/site-packages (from trio~=0.17->selenium>=4.9.0->undetected-chromedriver) (1.2.0)\n",
      "Requirement already satisfied: wsproto>=0.14 in /Users/nealcaren/anaconda3/envs/code/lib/python3.10/site-packages (from trio-websocket~=0.9->selenium>=4.9.0->undetected-chromedriver) (1.2.0)\n",
      "Requirement already satisfied: PySocks!=1.5.7,<2.0,>=1.5.6 in /Users/nealcaren/anaconda3/envs/code/lib/python3.10/site-packages (from urllib3[socks]<3,>=1.26->selenium>=4.9.0->undetected-chromedriver) (1.7.1)\n",
      "Requirement already satisfied: h11<1,>=0.9.0 in /Users/nealcaren/anaconda3/envs/code/lib/python3.10/site-packages (from wsproto>=0.14->trio-websocket~=0.9->selenium>=4.9.0->undetected-chromedriver) (0.14.0)\n",
      "^C\n",
      "\u001b[31mERROR: Operation cancelled by user\u001b[0m\u001b[31m\n",
      "\u001b[0mNote: you may need to restart the kernel to use updated packages.\n"
     ]
    }
   ],
   "source": [
    "pip install undetected-chromedriver"
   ]
  },
  {
   "cell_type": "code",
   "execution_count": 28,
   "metadata": {},
   "outputs": [],
   "source": [
    "import os\n",
    "from random import shuffle\n",
    "from collections import Counter\n",
    "from urllib.parse import urlparse\n",
    "import re\n",
    "from concurrent.futures import ThreadPoolExecutor\n",
    "import subprocess\n",
    "import json\n",
    "\n",
    "from slugify import slugify\n",
    "from selenium import webdriver\n",
    "import undetected_chromedriver as uc\n",
    "from newspaper import Article\n",
    "import pandas as pd\n"
   ]
  },
  {
   "cell_type": "code",
   "execution_count": 29,
   "metadata": {},
   "outputs": [],
   "source": [
    "# Load the subset and make a list of the URLS\n",
    "\n",
    "df = pd.read_json('ccc_sample.json')\n",
    "urls = df['source_1'].values\n",
    "shuffle(urls)"
   ]
  },
  {
   "cell_type": "code",
   "execution_count": 30,
   "metadata": {},
   "outputs": [],
   "source": [
    "user_agent = '''Mozilla/5.0 (Macintosh; Intel Mac OS X 10_15_7) AppleWebKit/537.36 (KHTML, like Gecko) Chrome/125.0.0.0 Safari/537.36'''\n",
    "\n",
    "def slugurl(url):\n",
    "    filename = slugify(url) + \".html\"\n",
    "    file_path = os.path.join('HTML', filename)\n",
    "    return file_path\n",
    "\n"
   ]
  },
  {
   "cell_type": "code",
   "execution_count": 31,
   "metadata": {},
   "outputs": [],
   "source": [
    "def get_article_info(url, html):\n",
    "    article = Article(url=url)\n",
    "    article.set_html(html)\n",
    "    article.parse()\n",
    "\n",
    "    article_details = {\n",
    "        \"title\": article.title,\n",
    "        \"text\": article.text,\n",
    "        \"url\": article.meta_data[\"og\"].get(\"url\", article.url),\n",
    "        \"authors\": article.authors,\n",
    "        \"date\": article.publish_date,\n",
    "        \"meta\": article.meta_data,\n",
    "        \"description\": article.meta_description,\n",
    "        \n",
    "        \"site\": article.meta_data[\"og\"].get(\"site_name\", \"\"),\n",
    "        \"publisher\": article.meta_data[\"publisher\"],\n",
    "    }\n",
    "\n",
    "    return article_details"
   ]
  },
  {
   "cell_type": "code",
   "execution_count": 91,
   "metadata": {},
   "outputs": [],
   "source": [
    "# Options 1 Standard Selenium\n",
    "\n",
    "options = webdriver.ChromeOptions()\n",
    "options.add_argument(\"--headless=True\")\n",
    "options.add_argument(f\"--user-agent={user_agent}\")\n",
    "selenium_driver = webdriver.Chrome(options=options)"
   ]
  },
  {
   "cell_type": "code",
   "execution_count": 92,
   "metadata": {},
   "outputs": [],
   "source": [
    "# Option 2 Add a extension\n",
    "\n",
    "options = webdriver.ChromeOptions()\n",
    "options.add_argument(\"--headless=new\")\n",
    "options.add_argument('--load-extension=bypass-paywalls-chrome-clean')\n",
    "options.add_argument(f\"--user-agent={user_agent}\")\n",
    "selenium_bypass_driver = webdriver.Chrome(options=options)"
   ]
  },
  {
   "cell_type": "code",
   "execution_count": 93,
   "metadata": {},
   "outputs": [],
   "source": [
    "# Option 3 Optimized Browser\n",
    "\n",
    "options = uc.ChromeOptions()\n",
    "#options.add_argument('--load-extension=bypass-paywalls-chrome-clean')\n",
    "uc_driver = uc.Chrome(headless=True,\n",
    "                       options=options,\n",
    "                       use_subprocess=False)\n"
   ]
  },
  {
   "cell_type": "code",
   "execution_count": 94,
   "metadata": {},
   "outputs": [],
   "source": [
    "# Option 4 Optimized Browser\n",
    "\n",
    "options = uc.ChromeOptions()\n",
    "#options.add_argument('--load-extension=bypass-paywalls-chrome-clean')\n",
    "uc_driver2 = uc.Chrome(headless=False,\n",
    "                       options=options,\n",
    "                       use_subprocess=False)\n"
   ]
  },
  {
   "cell_type": "code",
   "execution_count": 95,
   "metadata": {},
   "outputs": [],
   "source": [
    "drivers = {\n",
    "    \"selenium\": selenium_driver,\n",
    "    \"selenium_bypass\": selenium_bypass_driver,\n",
    "    \"undetected\": uc_driver,\n",
    "    \"uc_driver2\" : uc_driver2\n",
    "}"
   ]
  },
  {
   "cell_type": "code",
   "execution_count": 107,
   "metadata": {},
   "outputs": [],
   "source": [
    "def fetch_html(url, drivers):\n",
    "    results = {}\n",
    "    \n",
    "    for driver_name in ['selenium', 'selenium_bypass', 'undetected', 'uc_driver2']:\n",
    "        driver = drivers[driver_name]\n",
    "        driver.get(url)\n",
    "        html = driver.page_source\n",
    "        info = get_article_info(url, html)\n",
    "        info['html'] = html\n",
    "        info['url_retrieved'] = url\n",
    "        results[driver_name] = info\n",
    "    return results\n",
    "    "
   ]
  },
  {
   "cell_type": "code",
   "execution_count": 97,
   "metadata": {},
   "outputs": [],
   "source": [
    "url = \"https://www.bozemandailychronicle.com/news/international/protestors-picket-testers-weekend-fundraiser/article_241b4486-bec9-11ee-8e46-db5dbc78639a.html\"\n",
    "url = 'https://pantagraph.com/news/local/video-activists-gather-for-a-rally-in-support-of-palestinians-on-monday-in-normal/video_21ebf46a-1b3b-54f7-a761-457a60930271.html'\n",
    "url = 'https://www.ack.net/stories/nhs-students-walk-out-to-support-lgbtq-rights,31618'\n",
    "url = 'https://www.fox10phoenix.com/news/palestinian-americans-supporters-show-out-in-droves-at-tempe-rally-for-peace'\n",
    "url = 'https://www.lmtonline.com/local/article/parents-plan-walk-peaceful-protest-canceled-uisd-18360224.php'\n",
    "url = 'https://www.expressnews.com/politics/article/texas-capitol-survivors-child-sexual-abuse-17851830.php'\n",
    "url = 'https://www.semissourian.com/story/3021988.html'\n",
    "r = fetch_html(url, drivers)"
   ]
  },
  {
   "cell_type": "code",
   "execution_count": 108,
   "metadata": {},
   "outputs": [],
   "source": [
    "shuffle(urls)"
   ]
  },
  {
   "cell_type": "code",
   "execution_count": 109,
   "metadata": {},
   "outputs": [
    {
     "ename": "WebDriverException",
     "evalue": "Message: unknown error: session deleted because of page crash\nfrom unknown error: cannot determine loading status\nfrom tab crashed\n  (Session info: chrome=123.0.6312.59)\nStacktrace:\n0   undetected_chromedriver             0x000000010335c0f8 undetected_chromedriver + 4595960\n1   undetected_chromedriver             0x0000000103353e63 undetected_chromedriver + 4562531\n2   undetected_chromedriver             0x0000000102f57225 undetected_chromedriver + 381477\n3   undetected_chromedriver             0x0000000102f41ce7 undetected_chromedriver + 294119\n4   undetected_chromedriver             0x0000000102f414ab undetected_chromedriver + 292011\n5   undetected_chromedriver             0x0000000102f40ec0 undetected_chromedriver + 290496\n6   undetected_chromedriver             0x0000000102f40d47 undetected_chromedriver + 290119\n7   undetected_chromedriver             0x0000000102f3f089 undetected_chromedriver + 282761\n8   undetected_chromedriver             0x0000000102f3f5df undetected_chromedriver + 284127\n9   undetected_chromedriver             0x0000000102f4df28 undetected_chromedriver + 343848\n10  undetected_chromedriver             0x0000000102f632cb undetected_chromedriver + 430795\n11  undetected_chromedriver             0x0000000102f6858b undetected_chromedriver + 451979\n12  undetected_chromedriver             0x0000000102f3fbdf undetected_chromedriver + 285663\n13  undetected_chromedriver             0x0000000102f62f0d undetected_chromedriver + 429837\n14  undetected_chromedriver             0x0000000102fe325f undetected_chromedriver + 954975\n15  undetected_chromedriver             0x0000000102fc2ee3 undetected_chromedriver + 823011\n16  undetected_chromedriver             0x0000000102f93be4 undetected_chromedriver + 629732\n17  undetected_chromedriver             0x0000000102f9479e undetected_chromedriver + 632734\n18  undetected_chromedriver             0x0000000103322012 undetected_chromedriver + 4358162\n19  undetected_chromedriver             0x0000000103326c5d undetected_chromedriver + 4377693\n20  undetected_chromedriver             0x00000001033265d3 undetected_chromedriver + 4376019\n21  undetected_chromedriver             0x0000000103326f05 undetected_chromedriver + 4378373\n22  undetected_chromedriver             0x000000010330ba35 undetected_chromedriver + 4266549\n23  undetected_chromedriver             0x000000010332728d undetected_chromedriver + 4379277\n24  undetected_chromedriver             0x00000001032fe080 undetected_chromedriver + 4210816\n25  undetected_chromedriver             0x0000000103344ac8 undetected_chromedriver + 4500168\n26  undetected_chromedriver             0x0000000103344c41 undetected_chromedriver + 4500545\n27  undetected_chromedriver             0x0000000103353aa3 undetected_chromedriver + 4561571\n28  libsystem_pthread.dylib             0x00007ff81143418b _pthread_start + 99\n29  libsystem_pthread.dylib             0x00007ff81142fae3 thread_start + 15\n",
     "output_type": "error",
     "traceback": [
      "\u001b[0;31m---------------------------------------------------------------------------\u001b[0m",
      "\u001b[0;31mWebDriverException\u001b[0m                        Traceback (most recent call last)",
      "Cell \u001b[0;32mIn[109], line 4\u001b[0m\n\u001b[1;32m      1\u001b[0m done \u001b[38;5;241m=\u001b[39m {}\n\u001b[1;32m      3\u001b[0m \u001b[38;5;28;01mfor\u001b[39;00m url \u001b[38;5;129;01min\u001b[39;00m urls[:\u001b[38;5;241m50\u001b[39m]:\n\u001b[0;32m----> 4\u001b[0m     r \u001b[38;5;241m=\u001b[39m \u001b[43mfetch_html\u001b[49m\u001b[43m(\u001b[49m\u001b[43murl\u001b[49m\u001b[43m,\u001b[49m\u001b[43m \u001b[49m\u001b[43mdrivers\u001b[49m\u001b[43m)\u001b[49m\n\u001b[1;32m      5\u001b[0m     done[url] \u001b[38;5;241m=\u001b[39m pd\u001b[38;5;241m.\u001b[39mDataFrame(r)\u001b[38;5;241m.\u001b[39mT\n",
      "Cell \u001b[0;32mIn[107], line 6\u001b[0m, in \u001b[0;36mfetch_html\u001b[0;34m(url, drivers)\u001b[0m\n\u001b[1;32m      4\u001b[0m \u001b[38;5;28;01mfor\u001b[39;00m driver_name \u001b[38;5;129;01min\u001b[39;00m [\u001b[38;5;124m'\u001b[39m\u001b[38;5;124mselenium\u001b[39m\u001b[38;5;124m'\u001b[39m, \u001b[38;5;124m'\u001b[39m\u001b[38;5;124mselenium_bypass\u001b[39m\u001b[38;5;124m'\u001b[39m, \u001b[38;5;124m'\u001b[39m\u001b[38;5;124mundetected\u001b[39m\u001b[38;5;124m'\u001b[39m, \u001b[38;5;124m'\u001b[39m\u001b[38;5;124muc_driver2\u001b[39m\u001b[38;5;124m'\u001b[39m]:\n\u001b[1;32m      5\u001b[0m     driver \u001b[38;5;241m=\u001b[39m drivers[driver_name]\n\u001b[0;32m----> 6\u001b[0m     \u001b[43mdriver\u001b[49m\u001b[38;5;241;43m.\u001b[39;49m\u001b[43mget\u001b[49m\u001b[43m(\u001b[49m\u001b[43murl\u001b[49m\u001b[43m)\u001b[49m\n\u001b[1;32m      7\u001b[0m     html \u001b[38;5;241m=\u001b[39m driver\u001b[38;5;241m.\u001b[39mpage_source\n\u001b[1;32m      8\u001b[0m     info \u001b[38;5;241m=\u001b[39m get_article_info(url, html)\n",
      "File \u001b[0;32m~/anaconda3/envs/code/lib/python3.10/site-packages/undetected_chromedriver/__init__.py:665\u001b[0m, in \u001b[0;36mChrome.get\u001b[0;34m(self, url)\u001b[0m\n\u001b[1;32m    662\u001b[0m \u001b[38;5;28;01mdef\u001b[39;00m \u001b[38;5;21mget\u001b[39m(\u001b[38;5;28mself\u001b[39m, url):\n\u001b[1;32m    663\u001b[0m     \u001b[38;5;66;03m# if self._get_cdc_props():\u001b[39;00m\n\u001b[1;32m    664\u001b[0m     \u001b[38;5;66;03m#     self._hook_remove_cdc_props()\u001b[39;00m\n\u001b[0;32m--> 665\u001b[0m     \u001b[38;5;28;01mreturn\u001b[39;00m \u001b[38;5;28;43msuper\u001b[39;49m\u001b[43m(\u001b[49m\u001b[43m)\u001b[49m\u001b[38;5;241;43m.\u001b[39;49m\u001b[43mget\u001b[49m\u001b[43m(\u001b[49m\u001b[43murl\u001b[49m\u001b[43m)\u001b[49m\n",
      "File \u001b[0;32m~/anaconda3/envs/code/lib/python3.10/site-packages/selenium/webdriver/remote/webdriver.py:356\u001b[0m, in \u001b[0;36mWebDriver.get\u001b[0;34m(self, url)\u001b[0m\n\u001b[1;32m    354\u001b[0m \u001b[38;5;28;01mdef\u001b[39;00m \u001b[38;5;21mget\u001b[39m(\u001b[38;5;28mself\u001b[39m, url: \u001b[38;5;28mstr\u001b[39m) \u001b[38;5;241m-\u001b[39m\u001b[38;5;241m>\u001b[39m \u001b[38;5;28;01mNone\u001b[39;00m:\n\u001b[1;32m    355\u001b[0m \u001b[38;5;250m    \u001b[39m\u001b[38;5;124;03m\"\"\"Loads a web page in the current browser session.\"\"\"\u001b[39;00m\n\u001b[0;32m--> 356\u001b[0m     \u001b[38;5;28;43mself\u001b[39;49m\u001b[38;5;241;43m.\u001b[39;49m\u001b[43mexecute\u001b[49m\u001b[43m(\u001b[49m\u001b[43mCommand\u001b[49m\u001b[38;5;241;43m.\u001b[39;49m\u001b[43mGET\u001b[49m\u001b[43m,\u001b[49m\u001b[43m \u001b[49m\u001b[43m{\u001b[49m\u001b[38;5;124;43m\"\u001b[39;49m\u001b[38;5;124;43murl\u001b[39;49m\u001b[38;5;124;43m\"\u001b[39;49m\u001b[43m:\u001b[49m\u001b[43m \u001b[49m\u001b[43murl\u001b[49m\u001b[43m}\u001b[49m\u001b[43m)\u001b[49m\n",
      "File \u001b[0;32m~/anaconda3/envs/code/lib/python3.10/site-packages/selenium/webdriver/remote/webdriver.py:347\u001b[0m, in \u001b[0;36mWebDriver.execute\u001b[0;34m(self, driver_command, params)\u001b[0m\n\u001b[1;32m    345\u001b[0m response \u001b[38;5;241m=\u001b[39m \u001b[38;5;28mself\u001b[39m\u001b[38;5;241m.\u001b[39mcommand_executor\u001b[38;5;241m.\u001b[39mexecute(driver_command, params)\n\u001b[1;32m    346\u001b[0m \u001b[38;5;28;01mif\u001b[39;00m response:\n\u001b[0;32m--> 347\u001b[0m     \u001b[38;5;28;43mself\u001b[39;49m\u001b[38;5;241;43m.\u001b[39;49m\u001b[43merror_handler\u001b[49m\u001b[38;5;241;43m.\u001b[39;49m\u001b[43mcheck_response\u001b[49m\u001b[43m(\u001b[49m\u001b[43mresponse\u001b[49m\u001b[43m)\u001b[49m\n\u001b[1;32m    348\u001b[0m     response[\u001b[38;5;124m\"\u001b[39m\u001b[38;5;124mvalue\u001b[39m\u001b[38;5;124m\"\u001b[39m] \u001b[38;5;241m=\u001b[39m \u001b[38;5;28mself\u001b[39m\u001b[38;5;241m.\u001b[39m_unwrap_value(response\u001b[38;5;241m.\u001b[39mget(\u001b[38;5;124m\"\u001b[39m\u001b[38;5;124mvalue\u001b[39m\u001b[38;5;124m\"\u001b[39m, \u001b[38;5;28;01mNone\u001b[39;00m))\n\u001b[1;32m    349\u001b[0m     \u001b[38;5;28;01mreturn\u001b[39;00m response\n",
      "File \u001b[0;32m~/anaconda3/envs/code/lib/python3.10/site-packages/selenium/webdriver/remote/errorhandler.py:229\u001b[0m, in \u001b[0;36mErrorHandler.check_response\u001b[0;34m(self, response)\u001b[0m\n\u001b[1;32m    227\u001b[0m         alert_text \u001b[38;5;241m=\u001b[39m value[\u001b[38;5;124m\"\u001b[39m\u001b[38;5;124malert\u001b[39m\u001b[38;5;124m\"\u001b[39m]\u001b[38;5;241m.\u001b[39mget(\u001b[38;5;124m\"\u001b[39m\u001b[38;5;124mtext\u001b[39m\u001b[38;5;124m\"\u001b[39m)\n\u001b[1;32m    228\u001b[0m     \u001b[38;5;28;01mraise\u001b[39;00m exception_class(message, screen, stacktrace, alert_text)  \u001b[38;5;66;03m# type: ignore[call-arg]  # mypy is not smart enough here\u001b[39;00m\n\u001b[0;32m--> 229\u001b[0m \u001b[38;5;28;01mraise\u001b[39;00m exception_class(message, screen, stacktrace)\n",
      "\u001b[0;31mWebDriverException\u001b[0m: Message: unknown error: session deleted because of page crash\nfrom unknown error: cannot determine loading status\nfrom tab crashed\n  (Session info: chrome=123.0.6312.59)\nStacktrace:\n0   undetected_chromedriver             0x000000010335c0f8 undetected_chromedriver + 4595960\n1   undetected_chromedriver             0x0000000103353e63 undetected_chromedriver + 4562531\n2   undetected_chromedriver             0x0000000102f57225 undetected_chromedriver + 381477\n3   undetected_chromedriver             0x0000000102f41ce7 undetected_chromedriver + 294119\n4   undetected_chromedriver             0x0000000102f414ab undetected_chromedriver + 292011\n5   undetected_chromedriver             0x0000000102f40ec0 undetected_chromedriver + 290496\n6   undetected_chromedriver             0x0000000102f40d47 undetected_chromedriver + 290119\n7   undetected_chromedriver             0x0000000102f3f089 undetected_chromedriver + 282761\n8   undetected_chromedriver             0x0000000102f3f5df undetected_chromedriver + 284127\n9   undetected_chromedriver             0x0000000102f4df28 undetected_chromedriver + 343848\n10  undetected_chromedriver             0x0000000102f632cb undetected_chromedriver + 430795\n11  undetected_chromedriver             0x0000000102f6858b undetected_chromedriver + 451979\n12  undetected_chromedriver             0x0000000102f3fbdf undetected_chromedriver + 285663\n13  undetected_chromedriver             0x0000000102f62f0d undetected_chromedriver + 429837\n14  undetected_chromedriver             0x0000000102fe325f undetected_chromedriver + 954975\n15  undetected_chromedriver             0x0000000102fc2ee3 undetected_chromedriver + 823011\n16  undetected_chromedriver             0x0000000102f93be4 undetected_chromedriver + 629732\n17  undetected_chromedriver             0x0000000102f9479e undetected_chromedriver + 632734\n18  undetected_chromedriver             0x0000000103322012 undetected_chromedriver + 4358162\n19  undetected_chromedriver             0x0000000103326c5d undetected_chromedriver + 4377693\n20  undetected_chromedriver             0x00000001033265d3 undetected_chromedriver + 4376019\n21  undetected_chromedriver             0x0000000103326f05 undetected_chromedriver + 4378373\n22  undetected_chromedriver             0x000000010330ba35 undetected_chromedriver + 4266549\n23  undetected_chromedriver             0x000000010332728d undetected_chromedriver + 4379277\n24  undetected_chromedriver             0x00000001032fe080 undetected_chromedriver + 4210816\n25  undetected_chromedriver             0x0000000103344ac8 undetected_chromedriver + 4500168\n26  undetected_chromedriver             0x0000000103344c41 undetected_chromedriver + 4500545\n27  undetected_chromedriver             0x0000000103353aa3 undetected_chromedriver + 4561571\n28  libsystem_pthread.dylib             0x00007ff81143418b _pthread_start + 99\n29  libsystem_pthread.dylib             0x00007ff81142fae3 thread_start + 15\n"
     ]
    }
   ],
   "source": [
    "done = {}\n",
    " \n",
    "for url in urls[:50]:\n",
    "    r = fetch_html(url, drivers)\n",
    "    done[url] = pd.DataFrame(r).T"
   ]
  },
  {
   "cell_type": "code",
   "execution_count": 112,
   "metadata": {},
   "outputs": [],
   "source": [
    "dfs = []\n",
    "for df_name in done.keys():\n",
    "    df = done[df_name]\n",
    "    dfs.append(df)\n",
    "    \n",
    "retrieved = pd.concat(dfs)"
   ]
  },
  {
   "cell_type": "code",
   "execution_count": 114,
   "metadata": {},
   "outputs": [
    {
     "data": {
      "text/plain": [
       "4"
      ]
     },
     "execution_count": 114,
     "metadata": {},
     "output_type": "execute_result"
    }
   ],
   "source": [
    "len(retrieved)"
   ]
  },
  {
   "cell_type": "code",
   "execution_count": 115,
   "metadata": {},
   "outputs": [
    {
     "data": {
      "text/html": [
       "<div>\n",
       "<style scoped>\n",
       "    .dataframe tbody tr th:only-of-type {\n",
       "        vertical-align: middle;\n",
       "    }\n",
       "\n",
       "    .dataframe tbody tr th {\n",
       "        vertical-align: top;\n",
       "    }\n",
       "\n",
       "    .dataframe thead th {\n",
       "        text-align: right;\n",
       "    }\n",
       "</style>\n",
       "<table border=\"1\" class=\"dataframe\">\n",
       "  <thead>\n",
       "    <tr style=\"text-align: right;\">\n",
       "      <th></th>\n",
       "      <th>title</th>\n",
       "      <th>text</th>\n",
       "      <th>url</th>\n",
       "      <th>authors</th>\n",
       "      <th>date</th>\n",
       "      <th>meta</th>\n",
       "      <th>description</th>\n",
       "      <th>site</th>\n",
       "      <th>publisher</th>\n",
       "      <th>html</th>\n",
       "      <th>url_retrieved</th>\n",
       "    </tr>\n",
       "  </thead>\n",
       "  <tbody>\n",
       "    <tr>\n",
       "      <th>selenium</th>\n",
       "      <td>Lawmakers adjourn after protests erupt at Capitol</td>\n",
       "      <td>The second week of Tennessee’s legislative spe...</td>\n",
       "      <td>https://www.wsmv.com/video/2023/08/29/lawmaker...</td>\n",
       "      <td>[]</td>\n",
       "      <td>2023-08-29 00:00:00</td>\n",
       "      <td>{'apple-mobile-web-app-status-bar-style': 'bla...</td>\n",
       "      <td>The second week of Tennessee’s legislative spe...</td>\n",
       "      <td>https://www.wsmv.com</td>\n",
       "      <td>{}</td>\n",
       "      <td>&lt;html lang=\"en\"&gt;&lt;head&gt;&lt;script async=\"\" src=\"//...</td>\n",
       "      <td>https://www.wsmv.com/video/2023/08/29/lawmaker...</td>\n",
       "    </tr>\n",
       "    <tr>\n",
       "      <th>selenium_bypass</th>\n",
       "      <td>Lawmakers adjourn after protests erupt at Capitol</td>\n",
       "      <td>2 kids wander off as parents are found passed ...</td>\n",
       "      <td>https://www.wsmv.com/video/2023/08/29/lawmaker...</td>\n",
       "      <td>[]</td>\n",
       "      <td>2023-08-29 00:00:00</td>\n",
       "      <td>{'apple-mobile-web-app-status-bar-style': 'bla...</td>\n",
       "      <td>The second week of Tennessee’s legislative spe...</td>\n",
       "      <td>https://www.wsmv.com</td>\n",
       "      <td>{}</td>\n",
       "      <td>&lt;html lang=\"en\"&gt;&lt;head&gt;&lt;script charset=\"UTF-8\" ...</td>\n",
       "      <td>https://www.wsmv.com/video/2023/08/29/lawmaker...</td>\n",
       "    </tr>\n",
       "    <tr>\n",
       "      <th>undetected</th>\n",
       "      <td>Lawmakers adjourn after protests erupt at Capitol</td>\n",
       "      <td>‘I feel so bad’: Man says he saw Mizzou studen...</td>\n",
       "      <td>https://www.wsmv.com/video/2023/08/29/lawmaker...</td>\n",
       "      <td>[]</td>\n",
       "      <td>2023-08-29 00:00:00</td>\n",
       "      <td>{'apple-mobile-web-app-status-bar-style': 'bla...</td>\n",
       "      <td>The second week of Tennessee’s legislative spe...</td>\n",
       "      <td>https://www.wsmv.com</td>\n",
       "      <td>{}</td>\n",
       "      <td>&lt;html lang=\"en\"&gt;&lt;head&gt;&lt;script charset=\"UTF-8\" ...</td>\n",
       "      <td>https://www.wsmv.com/video/2023/08/29/lawmaker...</td>\n",
       "    </tr>\n",
       "    <tr>\n",
       "      <th>uc_driver2</th>\n",
       "      <td>Lawmakers adjourn after protests erupt at Capitol</td>\n",
       "      <td>The second week of Tennessee’s legislative spe...</td>\n",
       "      <td>https://www.wsmv.com/video/2023/08/29/lawmaker...</td>\n",
       "      <td>[]</td>\n",
       "      <td>2023-08-29 00:00:00</td>\n",
       "      <td>{'apple-mobile-web-app-status-bar-style': 'bla...</td>\n",
       "      <td>The second week of Tennessee’s legislative spe...</td>\n",
       "      <td>https://www.wsmv.com</td>\n",
       "      <td>{}</td>\n",
       "      <td>&lt;html lang=\"en\"&gt;&lt;head&gt;&lt;script async=\"\" src=\"//...</td>\n",
       "      <td>https://www.wsmv.com/video/2023/08/29/lawmaker...</td>\n",
       "    </tr>\n",
       "  </tbody>\n",
       "</table>\n",
       "</div>"
      ],
      "text/plain": [
       "                                                             title  \\\n",
       "selenium         Lawmakers adjourn after protests erupt at Capitol   \n",
       "selenium_bypass  Lawmakers adjourn after protests erupt at Capitol   \n",
       "undetected       Lawmakers adjourn after protests erupt at Capitol   \n",
       "uc_driver2       Lawmakers adjourn after protests erupt at Capitol   \n",
       "\n",
       "                                                              text  \\\n",
       "selenium         The second week of Tennessee’s legislative spe...   \n",
       "selenium_bypass  2 kids wander off as parents are found passed ...   \n",
       "undetected       ‘I feel so bad’: Man says he saw Mizzou studen...   \n",
       "uc_driver2       The second week of Tennessee’s legislative spe...   \n",
       "\n",
       "                                                               url authors  \\\n",
       "selenium         https://www.wsmv.com/video/2023/08/29/lawmaker...      []   \n",
       "selenium_bypass  https://www.wsmv.com/video/2023/08/29/lawmaker...      []   \n",
       "undetected       https://www.wsmv.com/video/2023/08/29/lawmaker...      []   \n",
       "uc_driver2       https://www.wsmv.com/video/2023/08/29/lawmaker...      []   \n",
       "\n",
       "                                date  \\\n",
       "selenium         2023-08-29 00:00:00   \n",
       "selenium_bypass  2023-08-29 00:00:00   \n",
       "undetected       2023-08-29 00:00:00   \n",
       "uc_driver2       2023-08-29 00:00:00   \n",
       "\n",
       "                                                              meta  \\\n",
       "selenium         {'apple-mobile-web-app-status-bar-style': 'bla...   \n",
       "selenium_bypass  {'apple-mobile-web-app-status-bar-style': 'bla...   \n",
       "undetected       {'apple-mobile-web-app-status-bar-style': 'bla...   \n",
       "uc_driver2       {'apple-mobile-web-app-status-bar-style': 'bla...   \n",
       "\n",
       "                                                       description  \\\n",
       "selenium         The second week of Tennessee’s legislative spe...   \n",
       "selenium_bypass  The second week of Tennessee’s legislative spe...   \n",
       "undetected       The second week of Tennessee’s legislative spe...   \n",
       "uc_driver2       The second week of Tennessee’s legislative spe...   \n",
       "\n",
       "                                 site publisher  \\\n",
       "selenium         https://www.wsmv.com        {}   \n",
       "selenium_bypass  https://www.wsmv.com        {}   \n",
       "undetected       https://www.wsmv.com        {}   \n",
       "uc_driver2       https://www.wsmv.com        {}   \n",
       "\n",
       "                                                              html  \\\n",
       "selenium         <html lang=\"en\"><head><script async=\"\" src=\"//...   \n",
       "selenium_bypass  <html lang=\"en\"><head><script charset=\"UTF-8\" ...   \n",
       "undetected       <html lang=\"en\"><head><script charset=\"UTF-8\" ...   \n",
       "uc_driver2       <html lang=\"en\"><head><script async=\"\" src=\"//...   \n",
       "\n",
       "                                                     url_retrieved  \n",
       "selenium         https://www.wsmv.com/video/2023/08/29/lawmaker...  \n",
       "selenium_bypass  https://www.wsmv.com/video/2023/08/29/lawmaker...  \n",
       "undetected       https://www.wsmv.com/video/2023/08/29/lawmaker...  \n",
       "uc_driver2       https://www.wsmv.com/video/2023/08/29/lawmaker...  "
      ]
     },
     "execution_count": 115,
     "metadata": {},
     "output_type": "execute_result"
    }
   ],
   "source": [
    "retrieved"
   ]
  },
  {
   "cell_type": "code",
   "execution_count": null,
   "metadata": {},
   "outputs": [],
   "source": []
  }
 ],
 "metadata": {
  "kernelspec": {
   "display_name": "code",
   "language": "python",
   "name": "python3"
  },
  "language_info": {
   "codemirror_mode": {
    "name": "ipython",
    "version": 3
   },
   "file_extension": ".py",
   "mimetype": "text/x-python",
   "name": "python",
   "nbconvert_exporter": "python",
   "pygments_lexer": "ipython3",
   "version": "3.10.13"
  }
 },
 "nbformat": 4,
 "nbformat_minor": 2
}
