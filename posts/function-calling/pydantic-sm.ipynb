{
 "cells": [
  {
   "cell_type": "raw",
   "id": "93fe506d-6a97-4973-bddb-f87a66675a3b",
   "metadata": {},
   "source": [
    "---\n",
    "title: Using ChatGPT to Make Social Media Posts\n",
    "date: 2024-02-17\n",
    "description: More using Pydantic for OpenAI function calling\n",
    "categories: [OpenAI]\n",
    "draft: false\n",
    "image: newsie.webp\n",
    "keywords: Pydantic, ChatGPT API, social media posts, function calling\n",
    "description-meta: Explore how to use Pydantic and the ChatGPT API for automated generation of social media posts, including different styles of tweets, to enhance article sharing and engagement.\n",
    "author-meta: Neal Caren, Associate Professor, Department of Sociology, University of North Carolina, Chapel Hill\n",
    "---"
   ]
  },
  {
   "cell_type": "raw",
   "id": "6ba75319-7de7-4058-861f-9d670fc494d6",
   "metadata": {},
   "source": [
    "This notebook uses pydantic and ChatGPT API's function calling to make some social media posts about an article. Mostly, I was interested in ways to get it to make different styles of tweets, such as ones that summarize the article vs ones that highlight a single insight."
   ]
  },
  {
   "cell_type": "code",
   "execution_count": 1,
   "id": "8ea75acd-65f0-4c79-91cd-f51cb003dc93",
   "metadata": {},
   "outputs": [
    {
     "name": "stdout",
     "output_type": "stream",
     "text": [
      "Note: you may need to restart the kernel to use updated packages.\n"
     ]
    }
   ],
   "source": [
    "pip install openai pydantic -q"
   ]
  },
  {
   "cell_type": "code",
   "execution_count": 2,
   "id": "28758811-c80a-4ceb-b299-9c5464459db8",
   "metadata": {},
   "outputs": [],
   "source": [
    "import json\n",
    "\n",
    "from pydantic import BaseModel, Field\n",
    "from typing import Optional, List\n",
    "from openai import OpenAI\n",
    "import pandas as pd\n",
    "\n",
    "pd.set_option('display.max_colwidth', 300)"
   ]
  },
  {
   "cell_type": "markdown",
   "id": "b1a78219",
   "metadata": {},
   "source": [
    "Pydantic is a library that helps  define the shape and type of our data, making sure it matches our expectations before we proceed with our code. Here's a breakdown of the code block using Pydantic:\n",
    "\n",
    "- **BaseModel**: This is a key part of Pydantic. Think of it as a blueprint for the data you expect. You define a class that inherits from `BaseModel`, and in it, you detail the structure of your data.\n",
    "\n",
    "- **Fields**: Inside each class that inherits from `BaseModel`, we define what data we expect using fields. For example, `content: str` means we expect a piece of data named `content` that should be a string. The `Field(...)` function is used to add extra details about each field, like a description or default value.\n",
    "\n",
    "- **Classes Defined**:\n",
    "  - **SummaryTweet**: A class for creating objects that represent a concise version of an abstract.\n",
    "  - **AnnounceTweet**: A class for making objects that represent a tweet announcing a new article.\n",
    "  - **InsightTweet**: This class is for objects that encapsulate a simple insight from complex social science concepts.\n",
    "  - **ThreadTweet**: A class for a list of tweets, making up a thread about an article.\n",
    "  - **GenerateTweets**: This class combines all the above, organizing them into lists of each type of tweet.\n",
    "\n",
    "- **List Fields**: When we want to store multiple items (like multiple tweets of the same kind), we use `List[SomeClass]`. This tells Pydantic we expect a list where each item is an instance of `SomeClass`.\n",
    "\n",
    "This code essentially sets up a structure for handling different types of tweets as data objects. By defining these classes, we ensure that the data we work with matches our expectations, reducing bugs and making our code more reliable.\n"
   ]
  },
  {
   "cell_type": "code",
   "execution_count": 42,
   "id": "19cea5ce-6118-40b4-9c2e-fdd6ddba113e",
   "metadata": {},
   "outputs": [],
   "source": [
    "class SummaryTweet(BaseModel):\n",
    "    content: str = Field(..., description=\"A concise version of the abstract in tweet format. No Hastags\")\n",
    "\n",
    "class AnnounceTweet(BaseModel):\n",
    "    content: str = Field(..., description=\"A tweet announcing a new article. Text must include the author and title.  No Hastags\")\n",
    "\n",
    "class InsightTweet(BaseModel):\n",
    "    content: str = Field(..., description=\"Simple, understandable statement distilling a complex social science concept.  No Hastags\")\n",
    "\n",
    "class ThreadTweet(BaseModel):\n",
    "    content: List[str] = Field(default=[], description=\"A list of tweets that together form a thread about the article, summarizing its key points and implications, engaging the audience, and encouraging further discussion or reading. No hashtags.\")\n",
    "\n",
    "class GenerateTweets(BaseModel):\n",
    "    summary_tweets: List[SummaryTweet] = Field(default=[], description=\"A list of SummaryTweet instances.\")\n",
    "    insight_tweets: List[InsightTweet] = Field(default=[], description=\"A list of InsightTweet instances.\")\n",
    "    announce_tweets: List[AnnounceTweet] = Field(default=[], description=\"A list of AnnounceTweet instances.\")\n",
    "    thread_tweets: List[ThreadTweet] = Field(default=[], description=\"A list of ThreadTweet instances.\")\n",
    "\n",
    "# Note: there might be a simpler way to do this, since each of the subclasses only has one field."
   ]
  },
  {
   "cell_type": "markdown",
   "id": "97637fb1",
   "metadata": {},
   "source": [
    "For our purposes, we are using to create a JSON schema that we want ChatGPT to follow."
   ]
  },
  {
   "cell_type": "code",
   "execution_count": 70,
   "id": "a1e4b3c8",
   "metadata": {},
   "outputs": [
    {
     "data": {
      "text/plain": [
       "{'properties': {'content': {'default': [],\n",
       "   'description': 'A list of tweets that together form a thread about the article, summarizing its key points and implications, engaging the audience, and encouraging further discussion or reading. No hashtags.',\n",
       "   'items': {'type': 'string'},\n",
       "   'title': 'Content',\n",
       "   'type': 'array'}},\n",
       " 'title': 'ThreadTweet',\n",
       " 'type': 'object'}"
      ]
     },
     "execution_count": 70,
     "metadata": {},
     "output_type": "execute_result"
    }
   ],
   "source": [
    "ThreadTweet.model_json_schema()"
   ]
  },
  {
   "cell_type": "code",
   "execution_count": 71,
   "id": "2a716c73",
   "metadata": {},
   "outputs": [
    {
     "data": {
      "text/plain": [
       "{'$defs': {'AnnounceTweet': {'properties': {'content': {'description': 'A tweet announcing a new article. Text must include the author and title.  No Hastags',\n",
       "     'title': 'Content',\n",
       "     'type': 'string'}},\n",
       "   'required': ['content'],\n",
       "   'title': 'AnnounceTweet',\n",
       "   'type': 'object'},\n",
       "  'InsightTweet': {'properties': {'content': {'description': 'Simple, understandable statement distilling a complex social science concept.  No Hastags',\n",
       "     'title': 'Content',\n",
       "     'type': 'string'}},\n",
       "   'required': ['content'],\n",
       "   'title': 'InsightTweet',\n",
       "   'type': 'object'},\n",
       "  'SummaryTweet': {'properties': {'content': {'description': 'A concise version of the abstract in tweet format. No Hastags',\n",
       "     'title': 'Content',\n",
       "     'type': 'string'}},\n",
       "   'required': ['content'],\n",
       "   'title': 'SummaryTweet',\n",
       "   'type': 'object'},\n",
       "  'ThreadTweet': {'properties': {'content': {'default': [],\n",
       "     'description': 'A list of tweets that together form a thread about the article, summarizing its key points and implications, engaging the audience, and encouraging further discussion or reading. No hashtags.',\n",
       "     'items': {'type': 'string'},\n",
       "     'title': 'Content',\n",
       "     'type': 'array'}},\n",
       "   'title': 'ThreadTweet',\n",
       "   'type': 'object'}},\n",
       " 'properties': {'summary_tweets': {'default': [],\n",
       "   'description': 'A list of SummaryTweet instances.',\n",
       "   'items': {'$ref': '#/$defs/SummaryTweet'},\n",
       "   'title': 'Summary Tweets',\n",
       "   'type': 'array'},\n",
       "  'insight_tweets': {'default': [],\n",
       "   'description': 'A list of InsightTweet instances.',\n",
       "   'items': {'$ref': '#/$defs/InsightTweet'},\n",
       "   'title': 'Insight Tweets',\n",
       "   'type': 'array'},\n",
       "  'announce_tweets': {'default': [],\n",
       "   'description': 'A list of AnnounceTweet instances.',\n",
       "   'items': {'$ref': '#/$defs/AnnounceTweet'},\n",
       "   'title': 'Announce Tweets',\n",
       "   'type': 'array'},\n",
       "  'thread_tweets': {'default': [],\n",
       "   'description': 'A list of ThreadTweet instances.',\n",
       "   'items': {'$ref': '#/$defs/ThreadTweet'},\n",
       "   'title': 'Thread Tweets',\n",
       "   'type': 'array'}},\n",
       " 'title': 'GenerateTweets',\n",
       " 'type': 'object'}"
      ]
     },
     "execution_count": 71,
     "metadata": {},
     "output_type": "execute_result"
    }
   ],
   "source": [
    "GenerateTweets.model_json_schema()"
   ]
  },
  {
   "cell_type": "code",
   "execution_count": 43,
   "id": "8467aa7d-645f-41d2-b9c9-b9052023f4b2",
   "metadata": {},
   "outputs": [],
   "source": [
    "# I put in the introduction when using GPT4 because it actually uses the extra information.\n",
    "\n",
    "article = '''\n",
    "TITLE: The MAGA Movement's Big Umbrella\n",
    "AUTHOR: Hank Johnston\n",
    "JOURNAL: Mobilization: An International Quarterly (2024) 28 (4): 409–433.\n",
    "LINK: https://doi.org/10.17813/1086-671X-28-4-409\n",
    "\n",
    "ABSTRACT: This article considers the phenomenon of MAGAism as a general, “big-umbrella” social movement to probe its structure and persistence. Drawing on my research on nationalist movements, I discuss the narrative flexibility and emotional power of nationalism and consider how these characteristics fuel a particularly resentful form of majoritarian nationalism—MAGAism. I identify five points of entry for MAGA participation, starting with this bitter majoritarian nationalism, then populism, then traditional conservatism, next a Trumpian personality cult, and ending with the alt-right’s extreme white supremacism and fascism. I then discuss two forces that gather this unlikely collection of groups and individuals under the MAGA umbrella: (1) the flexibility of social identity and how it allows status-threat narratives to subsume and redirect economic and political claims; (2) the social media environment of the 2020s, cut loose from the traditional gatekeepers of news and information, wherein maximizing hits—not accuracy—is the guiding principle. On the one hand, social media intensify the prominence of the demagogic celebrity at the helm of the Republican Party, Donald J. Trump. On the other hand, alt-right trolls compete for prominence by seeking outrageousness and shock value, enhanced by algorithms that create a closed information environment. These social media trends pull MAGA adherents further to the right by inflaming public discourse and building the movement on lies and conspiracies.\n",
    "INTRODUCTION: The rise of far right-wing parties and extremist groups is now a topic of deep concern among social scientists who study collective action and contentious politics.  As a reader of this special issue of Mobilization, this trend no doubt has been on your mind a lot, as it has been on mine—especially the challenges it poses to democratic institutions.i In the U.S. today, one of the major political parties actively restricts voting rights, bans books in libraries, embraces conspiracies, flaunts constitutional principles, and limits public-school curricula on topics such as diversity, slavery, gender and sexuality (Natanson 2023a, 2023b)—and millions of MAGA supporters are okay with it (Baker, Perry, and Whitehead, 2020; Enders, Farhart, Miller, and Uscinski 2022; Graham et al. 2021; Stewart 2023). Further along the right-wing spectrum, one increasingly finds rising antisemitism, white Christian nationalism, gun-toting bullies, and misogynists (see Davis and Kettrey’s study in this issue) in the U.S. public sphere, raising parallels with European history in the early twentieth century and its brown shirts and black shirts (rather than today’s polo shirts and tac gear). While violence and intolerance are not unique to the extreme right, these trends reflect a synergy between the current political environment, eroding democratic norms, and—among more and more citizens in democratic states—authoritarian and even fascist tendencies (Jackson 2021; Wintemute, Robinson, Tomish 2022). In the U.S. these trends can be grouped under the umbrella of MAGAism where majoritarian nationalism mixes with populism, far-right extremism, and a virtual (in both meanings of the term) potpourri of themes such as antiwokeness, antivaccines, parental rights, gun rights, sovereign citizenry, science denial, masculinity, the lie of a stolen 2020 election, Trumpian personality cult, white replacement, QAnon conspiracies, among many others. This essay contextualizes the special issue articles by situating them in relation to trends in the U.S., which I discuss under the big umbrella of MAGAism. Following Tarrow (2021: 175), common usage in the popular press, and Trump himself, I consider MAGAism as a general social movement, one that encompasses the rightward shift of public discourse and politics in the U.S. plus the array of mobilizing groups that drive it.ii  I will offer a somewhat personalized essay that draws on insights from my work on the power (and danger) of nationalism to analyze a particularly resentful majoritarian nationalism—often labeled white nationalism in the U.S.  (Graham et al. 2021; Mudde 2019, Miller-Idriss, 2021; Young 2017). I am interested not only in militias, alt-right trolls, and white-supremacist churches,  but—more broadly—the mechanisms that allow these extremists to be grouped with millions of middle-class working citizens who come to the movement via parental-rights groups, suburban bible-study groups, or as antivaxxers, tradition-alists, or Constitutionalists.  MAGAism is a big-tent collective action—a movement with continuity, shared identity, diverse claims and political objectives, networked by an array of groups and organizations—the movement’s mobilizing structures that mostly stand apart from the Republican Party. I will identify the movement’s patterns of discourse and how it is structured to help understand the complexity, die-hard loyalty, denialism, and conspiracies that unite millions of MAGAistas in the face of factual evidence that should undermine their beliefs. I pose the fundamental question of collective action: how is the MAGA movement possible?  \n",
    "'''"
   ]
  },
  {
   "cell_type": "code",
   "execution_count": 72,
   "id": "70ac052f-1d5c-4188-be90-6063fb5093be",
   "metadata": {},
   "outputs": [],
   "source": [
    "def make_tweets(article):\n",
    "    client = OpenAI(\n",
    "        max_retries=3,\n",
    "        timeout=90.0, \n",
    "    )\n",
    "\n",
    "    messages = [\n",
    "        {\n",
    "            \"role\": \"system\",\n",
    "            \"content\": ''' You write a variety of different types of social media posts about sociology articles.\n",
    "If you perform well, everyone gets a raise, while there are negative consequences if the posts don't get views.\n",
    "NEVER USE HASHTAGS.\n",
    "''',\n",
    "        },\n",
    "        {\n",
    "            \"role\": \"user\",\n",
    "            \"content\": f\"\"\"Generate five tweets of each style plus a tweet thread about this sociology article:\n",
    "\n",
    "            \n",
    "      {article}\n",
    "      \n",
    "      \"\"\",\n",
    "        },\n",
    "    ]\n",
    "\n",
    "    completion = client.chat.completions.create(\n",
    "        model = 'gpt-4-turbo-preview',     #   model=\"gpt-3.5-turbo\" is 20x cheaper but isn't as insightful \n",
    "        functions=[\n",
    "            {\n",
    "                \"name\": \"generate_tweets\",\n",
    "                \"description\": \"Create multiple social media posts, including a tweet thread, based on an article abstract.\",\n",
    "                \"parameters\": GenerateTweets.model_json_schema(),\n",
    "            },\n",
    "        ],\n",
    "        n=1,\n",
    "        messages=messages,\n",
    "    )\n",
    "    r = json.loads(completion.choices[0].message.function_call.arguments)\n",
    "    tweets = [{'type': tweet_type.split('_')[0], 'text': t['content']} for tweet_type in r for t in r[tweet_type]]\n",
    "\n",
    "    return pd.DataFrame(tweets)\n"
   ]
  },
  {
   "cell_type": "code",
   "execution_count": 66,
   "id": "b95ad29d-f8d9-4cd2-a46c-c1956d7ec478",
   "metadata": {},
   "outputs": [],
   "source": [
    "tdf = make_tweets(article)"
   ]
  },
  {
   "cell_type": "code",
   "execution_count": 67,
   "id": "aad55f97",
   "metadata": {},
   "outputs": [
    {
     "name": "stdout",
     "output_type": "stream",
     "text": [
      "Type: announce\n",
      "- New research by Hank Johnston in Mobilization investigates the MAGA movement's vast reach and the social forces fueling its endurance. The MAGA Movement's Big Umbrella: https://doi.org/10.17813/1086-671X-28-4-409\n",
      "Type: insight\n",
      "- Nationalism's emotional power can forge unlikely alliances, proving pivotal in the rise of movements like MAGAism.\n",
      "- Social identity's flexibility allows economic and political grievances to be reframed as status threats, fueling movements like MAGA.\n",
      "- In an era where hits trump accuracy, social media perpetuates echo chambers that magnify polarizing figures and ideologies.\n",
      "- The MAGA movement’s diverse entry points reflect the complex appeal of political identities in today's rapidly changing society.\n",
      "- Extremist movements leverage the digital age's vast reach, showcasing the dramatic impact of social media on political mobilization.\n",
      "Type: summary\n",
      "- Hank Johnston's article in Mobilization delves into MAGAism, exploring its roots in resentful majoritarian nationalism and its five diverse points of entry.\n",
      "- Johnston identifies social media and the flexibility of social identity as key forces uniting diverse MAGA groups under one 'big umbrella.'\n",
      "- Through examining MAGAism, the article discusses how emotional narratives and nationalism fuel the movement's persistence and growth.\n",
      "- The MAGA movement is dissected for its structure: from majoritarian nationalism to extreme white supremacism, uncovering its complex foundation.\n",
      "- Johnston's research highlights how the 2020s social media landscape propels MAGAism, intensifying right-wing shifts through misinformation and shock value.\n",
      "Type: thread\n",
      "- In Hank Johnston's latest article, 'The MAGA Movement's Big Umbrella,' he navigates the multifaceted world of MAGAism, a movement defined by its emotional engagement and diverse entry points.\n",
      "- MAGAism isn't just about one ideology. It’s about majoritarian nationalism, populism, conservatism, a Trumpian personality cult, and extreme white supremacism, all under one 'big umbrella.'\n",
      "- Johnston points out the crucial role of social identity flexibility and the chaotic 2020s social media landscape in unifying these varied elements, creating a powerful force despite conflicting views.\n",
      "- The rise of the MAGA movement signifies more than political allegiance; it's about the emotional narratives and nationalistic feelings that resonate with many, pushing the discourse further right through misinformation.\n",
      "- Lastly, this comprehensive look at MAGAism sheds light on how digital platforms contribute to the movement's momentum, emphasizing the need for awareness in the digital age. A must-read for anyone looking to understand the complexities of modern political movements.\n"
     ]
    }
   ],
   "source": [
    "# Grouping and printing with check for list in 'text' column\n",
    "for type_name, group in tdf.groupby('type'):\n",
    "    print(f\"Type: {type_name}\")\n",
    "    for index, row in group.iterrows():\n",
    "        if isinstance(row['text'], list):\n",
    "            for item in row['text']:\n",
    "                print(f\"- {item}\")\n",
    "        else:\n",
    "            print(f\"- {row['text']}\")\n"
   ]
  },
  {
   "cell_type": "markdown",
   "id": "0e008040",
   "metadata": {},
   "source": [
    "GPT4 doesn't always follow the directions, for example, there's only one \"announce\" style tweet, but GPT3.5 gets lost more often when something complex is going on, such as the tweet thread."
   ]
  }
 ],
 "metadata": {
  "kernelspec": {
   "display_name": "Python 3 (ipykernel)",
   "language": "python",
   "name": "python3"
  },
  "language_info": {
   "codemirror_mode": {
    "name": "ipython",
    "version": 3
   },
   "file_extension": ".py",
   "mimetype": "text/x-python",
   "name": "python",
   "nbconvert_exporter": "python",
   "pygments_lexer": "ipython3",
   "version": "3.11.0"
  }
 },
 "nbformat": 4,
 "nbformat_minor": 5
}
