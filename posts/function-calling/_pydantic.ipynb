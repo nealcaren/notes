{
 "cells": [
  {
   "cell_type": "raw",
   "id": "93fe506d-6a97-4973-bddb-f87a66675a3b",
   "metadata": {},
   "source": [
    "---\n",
    "title: Getting Structured Data from ChatGPT\n",
    "date: 2024-02-16\n",
    "description: Using Pydantic for OpenAI function calling\n",
    "categories: [OpenAI]\n",
    "draft: false\n",
    "image: pydantic.webp\n",
    "keywords: function calling, ChatGPT, Pydantic\n",
    "---"
   ]
  },
  {
   "cell_type": "markdown",
   "id": "072e5550-4f81-452a-a867-f50ee0b252e5",
   "metadata": {},
   "source": [
    "This notebook uses pydantic and ChatGPT API's function calling to extract details about a protest event from a newspaper article. In the old days, you had to ask it to provide a JSON-like object. Next, I defined the JSONs myself in the functions. Now I'm learning to use pydantic."
   ]
  },
  {
   "cell_type": "code",
   "execution_count": 133,
   "id": "28758811-c80a-4ceb-b299-9c5464459db8",
   "metadata": {},
   "outputs": [],
   "source": [
    "from datetime import date\n",
    "from enum import Enum\n",
    "import json\n",
    "\n",
    "from pydantic import BaseModel, Field\n",
    "from typing import Optional, List\n",
    "from openai import OpenAI\n",
    "import pandas as pd\n",
    "from concurrent.futures import ThreadPoolExecutor\n"
   ]
  },
  {
   "cell_type": "code",
   "execution_count": 8,
   "id": "7344d811",
   "metadata": {},
   "outputs": [],
   "source": [
    "coding_date_guidelines = '''\n",
    "# Coding the Date of a Protest Event from a Media Account\n",
    "\n",
    "## 1. Carefully Read the Article\n",
    "- Read through the entire article text thoroughly\n",
    "- Identify and underline/highlight any phrases that indicate a date or time period relative to the publication date (e.g., \"yesterday\", \"Saturday\", \"the day after Easter\", \"last week\", \"two months ago\", etc.)\n",
    "\n",
    "## 2. Determine the Publication Date\n",
    "- Obtain the publication date of the article from the provided information\n",
    "- Write down the publication date in a standard format (e.g., March 24, 2024)\n",
    "\n",
    "## 3. Create a Calendar Reference\n",
    "- Prepare a reference calendar for the year of the publication date\n",
    "- This can be a printed calendar or a handwritten one, whichever is more convenient\n",
    "\n",
    "## 4. Interpret Relative Date Phrases\n",
    "- For each relative date phrase identified in the article, interpret it based on the publication date and the calendar reference:\n",
    " - \"yesterday\": Count back one day from the publication date on the calendar\n",
    " - Weekday names (e.g., \"Saturday\"): Find the closest day before or on the publication date that matches the mentioned weekday\n",
    " - \"the day after Easter\": Determine the date of Easter for that year, and count one day after that date on the calendar\n",
    " - \"last week\": Count back 7 days from the publication date\n",
    " - \"two months ago\": Count back 2 months from the publication date's month, adjusting the day if necessary\n",
    " - Other relative phrases: Use logical reasoning and the calendar to interpret the phrase relative to the publication date\n",
    "\n",
    "## 5. Identify the Protest Event Description\n",
    "- Carefully read through the article again, looking for the section(s) that describe the protest event itself\n",
    "- Underline or highlight the key details and descriptions related to the protest you need to date\n",
    "\n",
    "## 6. Prioritize Relevant Date Phrases\n",
    "- From the list of relative date phrases identified earlier, prioritize the ones that are in closest proximity to the protest event description\n",
    "- If multiple date phrases are equally close, use your best judgment based on the context clues in the article to determine which is more likely referring to the protest date\n",
    "\n",
    "## 7. Cross-Reference with Event Details\n",
    "- As you interpret each prioritized date phrase, cross-reference it with the key details about the protest event, such as:\n",
    " - Location mentioned (does the calculated date make sense for that location?)\n",
    " - Other events or incidents described around the protest (does the interpreted date align with the chronology?)\n",
    " - Quotes from organizers or participants about timing (do they corroborate the calculated date?)\n",
    "\n",
    "## 8. Resolve Ambiguity\n",
    "- If multiple relative date phrases are present, prioritize the one closest to the description of the event in the article text\n",
    "- If phrases conflict, use your best judgment based on the context and chronology of events described in the article\n",
    "\n",
    "## 9. Record the Calculated Date\n",
    "- Once you have interpreted the relevant relative date phrase(s), record the calculated date in a YYYY-MM-DD format (e.g., 2023-04-13)\n",
    "\n",
    "## 10. Double-Check and Revise if Necessary\n",
    "- Review your work, ensuring that the calculated date aligns with the context and details provided in the article\n",
    "- If needed, revise your interpretation or consult additional resources (e.g., historical calendars, Easter date calculators) to validate your date calculation\n",
    "- Be open to revising your date calculation based on additional context clues surrounding the protest event itself\n",
    "'''"
   ]
  },
  {
   "cell_type": "code",
   "execution_count": 9,
   "id": "19cea5ce-6118-40b4-9c2e-fdd6ddba113e",
   "metadata": {},
   "outputs": [],
   "source": [
    "class WeekDay(Enum):\n",
    "    Monday = \"Monday\"\n",
    "    Tuesday = \"Tuesday\"\n",
    "    Wednesday = \"Wednesday\"\n",
    "    Thursday = \"Thursday\"\n",
    "    Friday = \"Friday\"\n",
    "    Saturday = \"Saturday\"\n",
    "    Sunday = \"Sunday\"\n",
    "\n",
    "\n",
    "\n",
    "class DateDetails(BaseModel):\n",
    "    event_date: date = Field(\n",
    "        ...,\n",
    "        description=\"Date of the protest. Pay attention to dates mentioned in the article and words such as ‘yesterday,’ ‘last week,’ and ‘Monday.’\",\n",
    "    )\n",
    "    day_of_week: WeekDay = Field(\n",
    "        ...,\n",
    "        description=\"The day of the week the protest occurred, such as Monday or Thursday.\",\n",
    "    )\n",
    "    date_text: List[str] = Field(\n",
    "        ...,\n",
    "        description=\"List of text descriptors for the protest date, such as 'yesterday', 'last week', or 'Monday' .\",\n",
    "    )\n",
    "\n",
    "\n",
    "\n",
    "class Protest(BaseModel):\n",
    "    protest_article: bool = Field(\n",
    "        False,\n",
    "        description=\"Indicates if the article describes a protest against police brutality.\",\n",
    "    )\n",
    "    summary: str = Field(\n",
    "        ...,\n",
    "        description=\"A focused summary of the article focusing on the protest details.\",\n",
    "    )\n",
    "    event_date: DateDetails = Field(\n",
    "        ...,\n",
    "        description=f\"{coding_date_guidelines}\",\n",
    "    )"
   ]
  },
  {
   "cell_type": "code",
   "execution_count": 10,
   "id": "8467aa7d-645f-41d2-b9c9-b9052023f4b2",
   "metadata": {},
   "outputs": [],
   "source": [
    "article = {\n",
    "    \"text\": \"\"\"COLUMBUS, Ohio (WCMH) – Yesterday was a national day of protest, and Columbus recognized the day when dozens of families gathered at the Ohio Statehouse to protest police brutality.\n",
    "\n",
    "Protesters were asking for accountability and justice by sharing how they lost their loved ones, while organizers said the protest was about telling their stories in more than one way.\n",
    "\n",
    "“We know that more than 1,200 Ohioans have been lost to police violence since the year 2000,” Ohio Families United for Political Action and Change (OFUPAC) Organizing Director Elaine Schleiffer said. “We wanted to represent the loss that that is, the empty shoes, that there’s no replacing those family members.”\n",
    "\n",
    "OFUPAC is a non-profit organization that unites families who have lost loved ones in officer-involved shootings.\n",
    "\n",
    "For many of those who turned out to yesterday’s protest, the issue hits close to home. Sabrina Jordan lost her son in an officer-involved shooting in 2017 just outside of Dayton.\n",
    "\n",
    "“We’re just here also, to, like, celebrate and love each other,” Jordan, who is also OFUPAC’s founder, said. “You know, connect.”\n",
    "\n",
    "Tania Hudson’s son was fatally shot by a Columbus police officer in 2015. \n",
    "\n",
    "“We’re asking accountability,” she said. “Officers be drug tested when they’re involved in a shooting, alcohol test. We understand that they have trauma and drama, too.”\n",
    "\n",
    "The city’s police union, the Fraternal Order of Police (FOP), said there is already accountability in place.\n",
    "\n",
    "“Accountability? How much more accountability can they ask for,” FOP Executive Vice President Brian Steel said. “We have an internal affairs. We have an inspector general’s office. We’re investigated by BCI in, say, a police-involved shooting, in a grand jury of our peers. There’s literally no more accountability that can be put on police officers today.”\n",
    "\n",
    "“Accountability is pretty much all that we can ask for,” Hudson said. “We can’t say justice – ours is gone. There will never be justice for us, but we’re out here trying to save other people’s lives. That’s why we’re constantly out here.”\n",
    "\n",
    "Protestors also mentioned their frustration with Marsy’s Law, which was originally passed to protect the victims of violent crimes, but which was extended to allow law enforcement departments to shield officers’ names when they are involved in a shooting. Protesters think this shouldn’t be the case while Steel said it’s an important protection for officers who are victims of violent crimes.\n",
    "\"\"\",\n",
    "    \"headline\": \"Statehouse protest calls for end to police brutality\",\n",
    "    \"publication-date\": \"2023-10-22\",\n",
    "    \"source\": \"WCMH\",\n",
    "}"
   ]
  },
  {
   "cell_type": "code",
   "execution_count": 128,
   "id": "70ac052f-1d5c-4188-be90-6063fb5093be",
   "metadata": {},
   "outputs": [],
   "source": [
    "def get_protest_date(article):\n",
    "    client = OpenAI(\n",
    "        max_retries=3,\n",
    "        timeout=20.0,\n",
    "    )\n",
    "\n",
    "    messages = [\n",
    "        {\n",
    "            \"role\": \"system\",\n",
    "            \"content\": \"You are a helpful assistant that extracts summaries of newspaper articles about political protests as JSON for a database. \",\n",
    "        },\n",
    "        {\n",
    "            \"role\": \"user\",\n",
    "            \"content\": f\"\"\"Extract information about the details about a protest from the following article.\n",
    "      Only use information from the article.\n",
    "\n",
    "      {article}\n",
    "      \n",
    "      \"\"\",\n",
    "        },\n",
    "    ]\n",
    "\n",
    "    completion = client.chat.completions.create(\n",
    "        model=\"gpt-3.5-turbo\",  # model = 'gpt-4-turbo-preview',\n",
    "        functions=[\n",
    "            {\n",
    "                \"name\": \"protest_details\",\n",
    "                \"description\": \"Extract insights from media article about protest.\",\n",
    "                \"parameters\": Protest.model_json_schema(),\n",
    "            }\n",
    "        ],\n",
    "        n=1,\n",
    "        messages=messages,\n",
    "    )\n",
    "\n",
    "    r = json.loads(completion.choices[0].message.function_call.arguments)\n",
    "    return r['event_date']['event_date']\n",
    "\n"
   ]
  },
  {
   "cell_type": "code",
   "execution_count": 124,
   "id": "b95ad29d-f8d9-4cd2-a46c-c1956d7ec478",
   "metadata": {},
   "outputs": [],
   "source": [
    "r = get_protest_details(article)"
   ]
  },
  {
   "cell_type": "code",
   "execution_count": 13,
   "id": "1f639988-44f4-41be-a9a1-f1f203304888",
   "metadata": {},
   "outputs": [
    {
     "data": {
      "text/html": [
       "<div>\n",
       "<style scoped>\n",
       "    .dataframe tbody tr th:only-of-type {\n",
       "        vertical-align: middle;\n",
       "    }\n",
       "\n",
       "    .dataframe tbody tr th {\n",
       "        vertical-align: top;\n",
       "    }\n",
       "\n",
       "    .dataframe thead th {\n",
       "        text-align: right;\n",
       "    }\n",
       "</style>\n",
       "<table border=\"1\" class=\"dataframe\">\n",
       "  <thead>\n",
       "    <tr style=\"text-align: right;\">\n",
       "      <th></th>\n",
       "      <th>summary</th>\n",
       "      <th>event_date_event_date</th>\n",
       "      <th>event_date_day_of_week</th>\n",
       "      <th>event_date_date_text</th>\n",
       "    </tr>\n",
       "  </thead>\n",
       "  <tbody>\n",
       "    <tr>\n",
       "      <th>0</th>\n",
       "      <td>Dozens of families gathered at the Ohio Stateh...</td>\n",
       "      <td>2023-10-21</td>\n",
       "      <td>Friday</td>\n",
       "      <td>[Yesterday]</td>\n",
       "    </tr>\n",
       "  </tbody>\n",
       "</table>\n",
       "</div>"
      ],
      "text/plain": [
       "                                             summary event_date_event_date  \\\n",
       "0  Dozens of families gathered at the Ohio Stateh...            2023-10-21   \n",
       "\n",
       "  event_date_day_of_week event_date_date_text  \n",
       "0                 Friday          [Yesterday]  "
      ]
     },
     "execution_count": 13,
     "metadata": {},
     "output_type": "execute_result"
    }
   ],
   "source": [
    "df = pd.json_normalize(\n",
    "    r, sep=\"_\"\n",
    ")  # It is returning some nested dictionaries, so I can't use the normal pd.from_json\n",
    "df"
   ]
  },
  {
   "cell_type": "code",
   "execution_count": 148,
   "id": "72b6cc3e",
   "metadata": {},
   "outputs": [],
   "source": [
    "article_df = pd.read_json(\n",
    "    \"https://raw.githubusercontent.com/nealcaren/notes/main/posts/from-articles-to-events/protest_articles.json\"\n",
    ")"
   ]
  },
  {
   "cell_type": "code",
   "execution_count": 149,
   "id": "b2b46f49",
   "metadata": {},
   "outputs": [],
   "source": [
    "for item in ['title','date', 'site','text']:\n",
    "    article_df = article_df.rename(columns={item: f'article_{item}'})\n",
    "\n",
    "article_df = article_df[article_df['article_date'].isna()==True]"
   ]
  },
  {
   "cell_type": "code",
   "execution_count": 163,
   "id": "1a8ad4a0",
   "metadata": {},
   "outputs": [
    {
     "data": {
      "text/plain": [
       "'https://www.cbsnews.com/colorado/video/sag-aftra-members-rally-in-denvers-city-park-1/'"
      ]
     },
     "execution_count": 163,
     "metadata": {},
     "output_type": "execute_result"
    }
   ],
   "source": [
    "article_df['url'].values[10]"
   ]
  },
  {
   "cell_type": "code",
   "execution_count": 162,
   "id": "dd88b128",
   "metadata": {},
   "outputs": [
    {
     "data": {
      "text/plain": [
       "\"Posted Thursday, April 6, 2023 7:10 am\\n\\n(April 6, 2023) More than 100 Nantucket High School students gathered on the football field Friday afternoon to protest recent anti-LGBTQ legislation in several southern states, joining schools across the country in a walkout.\\n\\n“It was a much bigger turnout than I was expecting, which I'm really grateful for,” said senior Ellie Kinsella, one of the organizers of the walkout.\\n\\n“Even if some of them were just here to skip class, I’m really grateful for the people who came just to support the cause,” she added.\\n\\nBloomberg reported earlier this month that at least 385 anti-LGBTQ laws have been introduced in state legislatures across the country this year, more than the last five years combined.\\n\\nLaws passed in primarily Republican-led states such as Texas, Tennessee and Missouri include denying access to healthcare for transgender people, limiting access to bathrooms or sports teams and what can be discussed in classrooms.\\n\\nSenior Kipper Buccino said it’s important the movement to support transgender people carries from Friday's walkout to the ballot box.\\n\\n“A lot of people at the high school are going to be of voting age soon and teenagers and young people tend not to vote for whatever reason, but it's so important that people vote because us saying stuff can only have so much of an impact,” Buccino said.\\n\\n“It’s the lawmakers who do things, and it’s really scary to see a lot of bills and laws passing recently that are just passing to control people and to hurt people.”\\n\\nKinsella said Nantucket High School principal Mandy Vasil approached the school's Gay/ Straight Alliance about joining other schools in holding a walkout Friday. Kinsella said she hopes the protest helps build a stronger presence for the club.\\n\\nOrganizer Sarah Swenson said she hopes even those students who participated in the walkout to escape class rather than support the cause still took something away from their message.\\n\\n“I’m glad they came out because hopefully they heard something in the speech that will impact how they act in the future,” Swenson said.\""
      ]
     },
     "execution_count": 162,
     "metadata": {},
     "output_type": "execute_result"
    }
   ],
   "source": [
    "article_df['article_text'].values[9]"
   ]
  },
  {
   "cell_type": "code",
   "execution_count": null,
   "id": "48fa32b9",
   "metadata": {},
   "outputs": [],
   "source": []
  },
  {
   "cell_type": "code",
   "execution_count": 116,
   "id": "e16aeeee",
   "metadata": {},
   "outputs": [],
   "source": [
    "for item in ['title','date', 'site','text']:\n",
    "    article_df = article_df.rename(columns={item: f'article_{item}'})\n",
    "\n",
    "article_df = article_df[article_df['article_date'].isna()==False]"
   ]
  },
  {
   "cell_type": "code",
   "execution_count": 40,
   "id": "e8115f10",
   "metadata": {},
   "outputs": [
    {
     "name": "stdout",
     "output_type": "stream",
     "text": [
      "1\n"
     ]
    }
   ],
   "source": [
    "event_df= pd.read_csv(\n",
    "    \"https://github.com/nonviolent-action-lab/crowd-counting-consortium/raw/master/ccc_compiled_2021-present.csv\",\n",
    "    encoding=\"latin\",\n",
    "    low_memory=False,\n",
    ")"
   ]
  },
  {
   "cell_type": "code",
   "execution_count": 117,
   "id": "34bda119",
   "metadata": {},
   "outputs": [
    {
     "data": {
      "text/plain": [
       "762"
      ]
     },
     "execution_count": 117,
     "metadata": {},
     "output_type": "execute_result"
    }
   ],
   "source": [
    "merged_df = pd.merge(article_df, event_df, left_on='url', right_on='source_1', how='inner')\n",
    "len(merged_df)"
   ]
  },
  {
   "cell_type": "code",
   "execution_count": 134,
   "id": "4ec2c8fc",
   "metadata": {},
   "outputs": [
    {
     "name": "stdout",
     "output_type": "stream",
     "text": [
      "Error processing row: 'NoneType' object has no attribute 'arguments'\n",
      "Error processing row: 'event_date'\n",
      "Error processing row: 'NoneType' object has no attribute 'arguments'\n",
      "Error processing row: 'NoneType' object has no attribute 'arguments'\n"
     ]
    }
   ],
   "source": [
    "\n",
    "# Your dataframe named merged_df and function get_protest_date should be defined\n",
    "\n",
    "# Define the relevant columns\n",
    "relevant_columns = ['article_title', 'article_date', 'article_site', 'article_text']\n",
    "\n",
    "# Convert the relevant columns of the dataframe to a list of dictionaries\n",
    "data_to_process = merged_df[relevant_columns].to_dict(orient='records')\n",
    "\n",
    "# Define a function that wraps your get_protest_date function for convenience\n",
    "def process_row(row_dict):\n",
    "    try:\n",
    "        return get_protest_date(row_dict)\n",
    "    except Exception as e:\n",
    "        print(f\"Error processing row: {e}\")\n",
    "        return None\n",
    "\n",
    "# Use ThreadPoolExecutor to apply the function to all rows concurrently\n",
    "with ThreadPoolExecutor(max_workers=5) as executor:\n",
    "    # Submit all the tasks and collect the futures\n",
    "    futures = [executor.submit(process_row, row_dict) for row_dict in data_to_process]\n",
    "    \n",
    "    # Wait for all futures to complete and collect the results\n",
    "    results = [future.result() for future in futures]\n",
    "\n",
    "# Assuming you want to add the results back into the dataframe:\n",
    "merged_df['estimated_date'] = results\n"
   ]
  },
  {
   "cell_type": "code",
   "execution_count": 139,
   "id": "d0386a4f",
   "metadata": {},
   "outputs": [],
   "source": [
    "merged_df['date_match'] = merged_df['date'] == merged_df['estimated_date']"
   ]
  },
  {
   "cell_type": "code",
   "execution_count": 147,
   "id": "786684e6",
   "metadata": {},
   "outputs": [
    {
     "data": {
      "text/html": [
       "<div>\n",
       "<style scoped>\n",
       "    .dataframe tbody tr th:only-of-type {\n",
       "        vertical-align: middle;\n",
       "    }\n",
       "\n",
       "    .dataframe tbody tr th {\n",
       "        vertical-align: top;\n",
       "    }\n",
       "\n",
       "    .dataframe thead th {\n",
       "        text-align: right;\n",
       "    }\n",
       "</style>\n",
       "<table border=\"1\" class=\"dataframe\">\n",
       "  <thead>\n",
       "    <tr style=\"text-align: right;\">\n",
       "      <th></th>\n",
       "      <th>article_title</th>\n",
       "      <th>date</th>\n",
       "      <th>estimated_date</th>\n",
       "      <th>article_date</th>\n",
       "    </tr>\n",
       "  </thead>\n",
       "  <tbody>\n",
       "    <tr>\n",
       "      <th>4</th>\n",
       "      <td>Families Stand Up For Kids in Gaza! : Indybay</td>\n",
       "      <td>2023-10-22</td>\n",
       "      <td>2023-10-20</td>\n",
       "      <td>2023-10-20T00:00:00.000</td>\n",
       "    </tr>\n",
       "    <tr>\n",
       "      <th>7</th>\n",
       "      <td>Towson students threatened with arrest at late...</td>\n",
       "      <td>2023-11-15</td>\n",
       "      <td>2023-11-16</td>\n",
       "      <td>2023-11-17T14:37:35.000Z</td>\n",
       "    </tr>\n",
       "    <tr>\n",
       "      <th>22</th>\n",
       "      <td>‘No days off’: Durham city sanitation workers ...</td>\n",
       "      <td>2023-09-06</td>\n",
       "      <td>2023-09-05</td>\n",
       "      <td>2023-09-05T22:18:32.000Z</td>\n",
       "    </tr>\n",
       "    <tr>\n",
       "      <th>28</th>\n",
       "      <td>San Francisco AAPI community rallies, calling ...</td>\n",
       "      <td>2023-04-16</td>\n",
       "      <td>2023-04-17</td>\n",
       "      <td>2023-04-17T17:49:00.000Z</td>\n",
       "    </tr>\n",
       "    <tr>\n",
       "      <th>35</th>\n",
       "      <td>Community members rally outside HISD headquart...</td>\n",
       "      <td>2023-08-05</td>\n",
       "      <td>2023-08-04</td>\n",
       "      <td>2023-08-05T15:58:36.000</td>\n",
       "    </tr>\n",
       "    <tr>\n",
       "      <th>...</th>\n",
       "      <td>...</td>\n",
       "      <td>...</td>\n",
       "      <td>...</td>\n",
       "      <td>...</td>\n",
       "    </tr>\n",
       "    <tr>\n",
       "      <th>740</th>\n",
       "      <td>Wisconsin Ukrainians host peace vigil as Russi...</td>\n",
       "      <td>2023-02-25</td>\n",
       "      <td>2023-02-26</td>\n",
       "      <td>2023-02-26T04:30:29.000Z</td>\n",
       "    </tr>\n",
       "    <tr>\n",
       "      <th>741</th>\n",
       "      <td>Northampton police incident sparks rally at Ci...</td>\n",
       "      <td>2023-08-13</td>\n",
       "      <td>2023-08-11</td>\n",
       "      <td>2023-08-11T20:17:15.291Z</td>\n",
       "    </tr>\n",
       "    <tr>\n",
       "      <th>742</th>\n",
       "      <td>Presidential candidate Robert F. Kennedy draws...</td>\n",
       "      <td>2024-02-05</td>\n",
       "      <td>2024-02-06</td>\n",
       "      <td>2024-02-07T00:00:00.000</td>\n",
       "    </tr>\n",
       "    <tr>\n",
       "      <th>743</th>\n",
       "      <td>Kaimuki residents rally to block ‘monster home...</td>\n",
       "      <td>2023-06-23</td>\n",
       "      <td>2023-07-14</td>\n",
       "      <td>2023-06-25T00:00:00.000</td>\n",
       "    </tr>\n",
       "    <tr>\n",
       "      <th>755</th>\n",
       "      <td>March through Minneapolis protests Camp Nenook...</td>\n",
       "      <td>2023-12-12</td>\n",
       "      <td>2023-12-13</td>\n",
       "      <td>2023-12-13T00:00:00.000</td>\n",
       "    </tr>\n",
       "  </tbody>\n",
       "</table>\n",
       "<p>200 rows × 4 columns</p>\n",
       "</div>"
      ],
      "text/plain": [
       "                                         article_title        date  \\\n",
       "4        Families Stand Up For Kids in Gaza! : Indybay  2023-10-22   \n",
       "7    Towson students threatened with arrest at late...  2023-11-15   \n",
       "22   ‘No days off’: Durham city sanitation workers ...  2023-09-06   \n",
       "28   San Francisco AAPI community rallies, calling ...  2023-04-16   \n",
       "35   Community members rally outside HISD headquart...  2023-08-05   \n",
       "..                                                 ...         ...   \n",
       "740  Wisconsin Ukrainians host peace vigil as Russi...  2023-02-25   \n",
       "741  Northampton police incident sparks rally at Ci...  2023-08-13   \n",
       "742  Presidential candidate Robert F. Kennedy draws...  2024-02-05   \n",
       "743  Kaimuki residents rally to block ‘monster home...  2023-06-23   \n",
       "755  March through Minneapolis protests Camp Nenook...  2023-12-12   \n",
       "\n",
       "    estimated_date              article_date  \n",
       "4       2023-10-20   2023-10-20T00:00:00.000  \n",
       "7       2023-11-16  2023-11-17T14:37:35.000Z  \n",
       "22      2023-09-05  2023-09-05T22:18:32.000Z  \n",
       "28      2023-04-17  2023-04-17T17:49:00.000Z  \n",
       "35      2023-08-04   2023-08-05T15:58:36.000  \n",
       "..             ...                       ...  \n",
       "740     2023-02-26  2023-02-26T04:30:29.000Z  \n",
       "741     2023-08-11  2023-08-11T20:17:15.291Z  \n",
       "742     2024-02-06   2024-02-07T00:00:00.000  \n",
       "743     2023-07-14   2023-06-25T00:00:00.000  \n",
       "755     2023-12-13   2023-12-13T00:00:00.000  \n",
       "\n",
       "[200 rows x 4 columns]"
      ]
     },
     "execution_count": 147,
     "metadata": {},
     "output_type": "execute_result"
    }
   ],
   "source": [
    "merged_df[merged_df['date_match']==False][['article_title','date','estimated_date', 'article_date']]"
   ]
  },
  {
   "cell_type": "code",
   "execution_count": 145,
   "id": "235628b7",
   "metadata": {},
   "outputs": [
    {
     "data": {
      "text/plain": [
       "article_title      Towson students threatened with arrest at late...\n",
       "article_text       By Gabriel Donahue, Editor-in-Chief\\n\\nA secon...\n",
       "url                https://thetowerlight.com/towson-students-thre...\n",
       "authors                                            [Gabriel Donahue]\n",
       "article_date                                2023-11-17T14:37:35.000Z\n",
       "                                         ...                        \n",
       "resolved_county                                     Baltimore County\n",
       "resolved_state                                                    MD\n",
       "fips_code                                                    24005.0\n",
       "estimated_date                                            2023-11-16\n",
       "date_match                                                     False\n",
       "Name: 7, Length: 87, dtype: object"
      ]
     },
     "execution_count": 145,
     "metadata": {},
     "output_type": "execute_result"
    }
   ],
   "source": [
    "merged_df.iloc[7]"
   ]
  },
  {
   "cell_type": "code",
   "execution_count": 91,
   "id": "41b2d095",
   "metadata": {},
   "outputs": [
    {
     "data": {
      "text/plain": [
       "{'article_title': 'Civil Rights march taking place in Shreveport this weekend',\n",
       " 'article_date': None,\n",
       " 'article_site': 'KTBS',\n",
       " 'article_text': \"Mac Users Didn't Know This Simple Trick To Block All Ads (Do It Now)\\n\\nSafe Tech Tips\"}"
      ]
     },
     "execution_count": 91,
     "metadata": {},
     "output_type": "execute_result"
    }
   ],
   "source": [
    "sample_d"
   ]
  },
  {
   "cell_type": "code",
   "execution_count": 75,
   "id": "1a6837c2",
   "metadata": {},
   "outputs": [
    {
     "data": {
      "text/plain": [
       "{'summary': 'Faces of protest: Thursday at the Indiana Statehouse',\n",
       " 'event_date': {'event_date': '2023-03-16',\n",
       "  'day_of_week': 'Thursday',\n",
       "  'date_text': ['Thursday']}}"
      ]
     },
     "execution_count": 75,
     "metadata": {},
     "output_type": "execute_result"
    }
   ],
   "source": [
    "results"
   ]
  },
  {
   "cell_type": "code",
   "execution_count": 19,
   "id": "52ef42e0",
   "metadata": {},
   "outputs": [],
   "source": [
    "from datetime import datetime\n",
    "\n",
    "# The function to check if the day of the week is consistent with the date\n",
    "def check_day_of_week(date_str, day_of_week):\n",
    "    \"\"\"\n",
    "    Check if the provided day of the week is consistent with the date string.\n",
    "    \n",
    "    Parameters:\n",
    "    date_str (str): Date in the format 'YYYY-MM-DD'\n",
    "    day_of_week (str): Day of the week\n",
    "    \n",
    "    Returns:\n",
    "    bool: True if the day of the week is consistent with the date, False otherwise.\n",
    "    \"\"\"\n",
    "    # Parse the date string into a datetime object\n",
    "    date_obj = datetime.strptime(date_str, '%Y-%m-%d')\n",
    "    \n",
    "    # Create a dictionary to map datetime weekday numbers to day names\n",
    "    day_dict = {\n",
    "        0: 'Monday',\n",
    "        1: 'Tuesday',\n",
    "        2: 'Wednesday',\n",
    "        3: 'Thursday',\n",
    "        4: 'Friday',\n",
    "        5: 'Saturday',\n",
    "        6: 'Sunday'\n",
    "    }\n",
    "    \n",
    "    # Get the day of the week number for the date object\n",
    "    day_num = date_obj.weekday()\n",
    "    print(day_num)\n",
    "    # Compare and return the result\n",
    "    return day_dict[day_num].lower() == day_of_week.lower()\n"
   ]
  },
  {
   "cell_type": "code",
   "execution_count": 20,
   "id": "eee7caa9",
   "metadata": {},
   "outputs": [
    {
     "name": "stdout",
     "output_type": "stream",
     "text": [
      "5\n"
     ]
    },
    {
     "data": {
      "text/plain": [
       "0.0"
      ]
     },
     "execution_count": 20,
     "metadata": {},
     "output_type": "execute_result"
    }
   ],
   "source": [
    "df[\"is_consistent\"] = df.apply(\n",
    "    lambda row: check_day_of_week(\n",
    "        row[\"event_date_event_date\"], row[\"event_date_day_of_week\"]\n",
    "    ),\n",
    "    axis=1,\n",
    ")\n",
    "df[\"is_consistent\"].mean()"
   ]
  },
  {
   "cell_type": "markdown",
   "id": "5e9ee14b-02d7-42d4-93e4-f461b7358dcd",
   "metadata": {},
   "source": [
    "Estimated cost: \n",
    "\n",
    "* gpt-4-0125-preview: 55 articles for $1\n",
    "* gpt-3.5-turbo: 1106 articles for $1"
   ]
  },
  {
   "cell_type": "code",
   "execution_count": 48,
   "id": "61393d8d-b6fa-45f2-9f08-d68d3e38b328",
   "metadata": {},
   "outputs": [
    {
     "data": {
      "text/plain": [
       "{'$defs': {'DateDetails': {'properties': {'event_date': {'description': 'Date of the protest. Pay attention to dates mentioned in the article and words such as ‘yesterday,’ ‘last week,’ and ‘Monday.’',\n",
       "     'format': 'date',\n",
       "     'title': 'Event Date',\n",
       "     'type': 'string'},\n",
       "    'day_of_week': {'allOf': [{'$ref': '#/$defs/WeekDay'}],\n",
       "     'description': 'The day of the week the protest occurred, such as Monday or Thursday.'},\n",
       "    'date_text': {'description': \"List of text descriptors for the protest date, such as 'yesterday', 'last week', or 'Monday' .\",\n",
       "     'items': {'type': 'string'},\n",
       "     'title': 'Date Text',\n",
       "     'type': 'array'}},\n",
       "   'required': ['event_date', 'day_of_week', 'date_text'],\n",
       "   'title': 'DateDetails',\n",
       "   'type': 'object'},\n",
       "  'LocationDetails': {'properties': {'city': {'description': 'The city where the protest took place.',\n",
       "     'title': 'City',\n",
       "     'type': 'string'},\n",
       "    'state_abbreviation': {'allOf': [{'$ref': '#/$defs/StateAB'}],\n",
       "     'description': 'The two-letter abbreviation of the state where the protest took place, such as NY or CA.'},\n",
       "    'neighborhood': {'anyOf': [{'type': 'string'}, {'type': 'null'}],\n",
       "     'default': None,\n",
       "     'description': 'The neighborhood where the protest took place, if applicable.',\n",
       "     'title': 'Neighborhood'},\n",
       "    'moved': {'description': 'Indicates whether the protest moved from one location to another.',\n",
       "     'title': 'Moved',\n",
       "     'type': 'boolean'}},\n",
       "   'required': ['city', 'state_abbreviation', 'moved'],\n",
       "   'title': 'LocationDetails',\n",
       "   'type': 'object'},\n",
       "  'ParticipantDetails': {'properties': {'organizations': {'default': [],\n",
       "     'description': 'Names of organizations that participated in the protest event. Exclude targets or other organizations mentioned but not protesting.  Organizational participation can take many forms, from organizing and leading the event to sponsoring or co-sponsoring it to providing one or more speakers for it to just showing up to the event as a recognizable presence.  ',\n",
       "     'items': {'type': 'string'},\n",
       "     'title': 'Organizations',\n",
       "     'type': 'array'},\n",
       "    'advocates': {'default': [],\n",
       "     'description': 'The names of individuals who organized.',\n",
       "     'items': {'type': 'string'},\n",
       "     'title': 'Advocates',\n",
       "     'type': 'array'},\n",
       "    'participant_type': {'default': [],\n",
       "     'description': 'Descriptors of participants in the event, such as students, nurses, or local residents.  Record words or phrases describing the participants in the event. The goal is to capture as much information as possible about the kinds of people who participated, as distinct from any organizations they represent or belong to. ',\n",
       "     'items': {'type': 'string'},\n",
       "     'title': 'Participant Type',\n",
       "     'type': 'array'}},\n",
       "   'title': 'ParticipantDetails',\n",
       "   'type': 'object'},\n",
       "  'SizeCategory': {'enum': [0, 1, 2, 3, 4],\n",
       "   'title': 'SizeCategory',\n",
       "   'type': 'integer'},\n",
       "  'SizeDetails': {'properties': {'size_text': {'description': 'List of text descriptors for the number of people who participated in the event.',\n",
       "     'items': {'type': 'string'},\n",
       "     'title': 'Size Text',\n",
       "     'type': 'array'},\n",
       "    'size_exact': {'anyOf': [{'type': 'integer'}, {'type': 'null'}],\n",
       "     'default': None,\n",
       "     'description': 'Exact number of participants, if reported.',\n",
       "     'title': 'Size Exact'},\n",
       "    'size_estimate': {'description': 'Your best guess at the estimated number of participants based on the entire article.',\n",
       "     'title': 'Size Estimate',\n",
       "     'type': 'integer'},\n",
       "    'size_cat': {'allOf': [{'$ref': '#/$defs/SizeCategory'}],\n",
       "     'default': 0,\n",
       "     'description': 'Categorical indicator of crowd size. 0 = unknown; 1 = 1-99; 2 = 100-999; 3 = 1,000-9,999; 4 = 10,000+.'}},\n",
       "   'required': ['size_text', 'size_estimate'],\n",
       "   'title': 'SizeDetails',\n",
       "   'type': 'object'},\n",
       "  'StateAB': {'enum': ['AK',\n",
       "    'AL',\n",
       "    'AR',\n",
       "    'AZ',\n",
       "    'CA',\n",
       "    'CO',\n",
       "    'CT',\n",
       "    'DC',\n",
       "    'DE',\n",
       "    'FL',\n",
       "    'GA',\n",
       "    'HI',\n",
       "    'IA',\n",
       "    'ID',\n",
       "    'IL',\n",
       "    'IN',\n",
       "    'KS',\n",
       "    'KY',\n",
       "    'LA',\n",
       "    'MA',\n",
       "    'MD',\n",
       "    'ME',\n",
       "    'MI',\n",
       "    'MN',\n",
       "    'MO',\n",
       "    'MS',\n",
       "    'MT',\n",
       "    'NC',\n",
       "    'ND',\n",
       "    'NE',\n",
       "    'NH',\n",
       "    'NJ',\n",
       "    'NM',\n",
       "    'NV',\n",
       "    'NY',\n",
       "    'OH',\n",
       "    'OK',\n",
       "    'OR',\n",
       "    'PA',\n",
       "    'RI',\n",
       "    'SC',\n",
       "    'SD',\n",
       "    'TN',\n",
       "    'TX',\n",
       "    'UT',\n",
       "    'VA',\n",
       "    'VT',\n",
       "    'WA',\n",
       "    'WI',\n",
       "    'WV',\n",
       "    'WY'],\n",
       "   'title': 'StateAB',\n",
       "   'type': 'string'},\n",
       "  'WeekDay': {'enum': ['Monday',\n",
       "    'Tuesday',\n",
       "    'Wednesday',\n",
       "    'Thursday',\n",
       "    'Friday',\n",
       "    'Saturday',\n",
       "    'Sunday'],\n",
       "   'title': 'WeekDay',\n",
       "   'type': 'string'}},\n",
       " 'properties': {'protest_article': {'default': False,\n",
       "   'description': 'Indicates if the article describes a protest against police brutality.',\n",
       "   'title': 'Protest Article',\n",
       "   'type': 'boolean'},\n",
       "  'summary': {'description': 'A focused summary of the article focusing on the protest details.',\n",
       "   'title': 'Summary',\n",
       "   'type': 'string'},\n",
       "  'location': {'allOf': [{'$ref': '#/$defs/LocationDetails'}],\n",
       "   'description': 'Location of the protest.'},\n",
       "  'size': {'allOf': [{'$ref': '#/$defs/SizeDetails'}],\n",
       "   'description': 'Size of the protest.'},\n",
       "  'participants': {'allOf': [{'$ref': '#/$defs/ParticipantDetails'}],\n",
       "   'description': 'Organizations and participants in the protest.'},\n",
       "  'event_date': {'allOf': [{'$ref': '#/$defs/DateDetails'}],\n",
       "   'description': 'Date of the protest. Pay attention to dates mentioned in the article and words such as ‘yesterday,’ ‘last week,’ and ‘Monday.’'}},\n",
       " 'required': ['summary', 'location', 'size', 'participants', 'event_date'],\n",
       " 'title': 'Protest',\n",
       " 'type': 'object'}"
      ]
     },
     "execution_count": 48,
     "metadata": {},
     "output_type": "execute_result"
    }
   ],
   "source": [
    "Protest.model_json_schema()"
   ]
  },
  {
   "cell_type": "code",
   "execution_count": null,
   "id": "09b12fa8-8850-476a-ac27-9f308ce01402",
   "metadata": {},
   "outputs": [],
   "source": []
  }
 ],
 "metadata": {
  "kernelspec": {
   "display_name": "Python 3 (ipykernel)",
   "language": "python",
   "name": "python3"
  },
  "language_info": {
   "codemirror_mode": {
    "name": "ipython",
    "version": 3
   },
   "file_extension": ".py",
   "mimetype": "text/x-python",
   "name": "python",
   "nbconvert_exporter": "python",
   "pygments_lexer": "ipython3",
   "version": "3.10.13"
  }
 },
 "nbformat": 4,
 "nbformat_minor": 5
}
