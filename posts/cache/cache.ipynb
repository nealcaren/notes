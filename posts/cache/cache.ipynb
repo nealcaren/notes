{
 "cells": [
  {
   "cell_type": "raw",
   "metadata": {
    "vscode": {
     "languageId": "raw"
    }
   },
   "source": [
    "---\n",
    "title: Caching Up with Claude\n",
    "date: 2024-08-16\n",
    "description: Playing around with Prompt Caching\n",
    "categories: [Claude, Prompts]\n",
    "draft: false\n",
    "image: library.webp\n",
    "author-meta: Neal Caren, Associate Professor, Department of Sociology, University of North Carolina, Chapel Hill\n",
    "---"
   ]
  },
  {
   "cell_type": "markdown",
   "metadata": {},
   "source": [
    "Anthropic recently announced a new feature called \"prompt caching\" for the Claude API. This feature allows users to store complex instructions or multiple examples in the API's memory, making them readily available for repeated use. While caching prompts initially costs 25% more than standard API usage, subsequent uses of cached prompts are 90% cheaper, offering significant cost savings for repetitive tasks.\n",
    "\n",
    "This new feature holds particular promise for social scientists, like myself, who frequently process large volumes of documents using consistent sets of instructions. \n",
    "\n",
    "To test it out, I thought I would try prompt caching on my current project of extracting quotes from newspaper articles about protest events."
   ]
  },
  {
   "cell_type": "code",
   "execution_count": 54,
   "metadata": {},
   "outputs": [
    {
     "name": "stdout",
     "output_type": "stream",
     "text": [
      "Requirement already satisfied: anthropic in /Users/nealcaren/anaconda3/envs/code/lib/python3.10/site-packages (0.34.0)\n",
      "Requirement already satisfied: anyio<5,>=3.5.0 in /Users/nealcaren/anaconda3/envs/code/lib/python3.10/site-packages (from anthropic) (4.4.0)\n",
      "Requirement already satisfied: distro<2,>=1.7.0 in /Users/nealcaren/anaconda3/envs/code/lib/python3.10/site-packages (from anthropic) (1.9.0)\n",
      "Requirement already satisfied: httpx<1,>=0.23.0 in /Users/nealcaren/anaconda3/envs/code/lib/python3.10/site-packages (from anthropic) (0.27.0)\n",
      "Requirement already satisfied: jiter<1,>=0.4.0 in /Users/nealcaren/anaconda3/envs/code/lib/python3.10/site-packages (from anthropic) (0.5.0)\n",
      "Requirement already satisfied: pydantic<3,>=1.9.0 in /Users/nealcaren/anaconda3/envs/code/lib/python3.10/site-packages (from anthropic) (2.8.2)\n",
      "Requirement already satisfied: sniffio in /Users/nealcaren/anaconda3/envs/code/lib/python3.10/site-packages (from anthropic) (1.3.1)\n",
      "Requirement already satisfied: tokenizers>=0.13.0 in /Users/nealcaren/anaconda3/envs/code/lib/python3.10/site-packages (from anthropic) (0.19.1)\n",
      "Requirement already satisfied: typing-extensions<5,>=4.7 in /Users/nealcaren/anaconda3/envs/code/lib/python3.10/site-packages (from anthropic) (4.12.2)\n",
      "Requirement already satisfied: idna>=2.8 in /Users/nealcaren/anaconda3/envs/code/lib/python3.10/site-packages (from anyio<5,>=3.5.0->anthropic) (3.7)\n",
      "Requirement already satisfied: exceptiongroup>=1.0.2 in /Users/nealcaren/anaconda3/envs/code/lib/python3.10/site-packages (from anyio<5,>=3.5.0->anthropic) (1.2.0)\n",
      "Requirement already satisfied: certifi in /Users/nealcaren/anaconda3/envs/code/lib/python3.10/site-packages (from httpx<1,>=0.23.0->anthropic) (2024.7.4)\n",
      "Requirement already satisfied: httpcore==1.* in /Users/nealcaren/anaconda3/envs/code/lib/python3.10/site-packages (from httpx<1,>=0.23.0->anthropic) (1.0.5)\n",
      "Requirement already satisfied: h11<0.15,>=0.13 in /Users/nealcaren/anaconda3/envs/code/lib/python3.10/site-packages (from httpcore==1.*->httpx<1,>=0.23.0->anthropic) (0.14.0)\n",
      "Requirement already satisfied: annotated-types>=0.4.0 in /Users/nealcaren/anaconda3/envs/code/lib/python3.10/site-packages (from pydantic<3,>=1.9.0->anthropic) (0.7.0)\n",
      "Requirement already satisfied: pydantic-core==2.20.1 in /Users/nealcaren/anaconda3/envs/code/lib/python3.10/site-packages (from pydantic<3,>=1.9.0->anthropic) (2.20.1)\n",
      "Requirement already satisfied: huggingface-hub<1.0,>=0.16.4 in /Users/nealcaren/anaconda3/envs/code/lib/python3.10/site-packages (from tokenizers>=0.13.0->anthropic) (0.23.4)\n",
      "Requirement already satisfied: filelock in /Users/nealcaren/anaconda3/envs/code/lib/python3.10/site-packages (from huggingface-hub<1.0,>=0.16.4->tokenizers>=0.13.0->anthropic) (3.15.4)\n",
      "Requirement already satisfied: fsspec>=2023.5.0 in /Users/nealcaren/anaconda3/envs/code/lib/python3.10/site-packages (from huggingface-hub<1.0,>=0.16.4->tokenizers>=0.13.0->anthropic) (2024.6.1)\n",
      "Requirement already satisfied: packaging>=20.9 in /Users/nealcaren/anaconda3/envs/code/lib/python3.10/site-packages (from huggingface-hub<1.0,>=0.16.4->tokenizers>=0.13.0->anthropic) (24.1)\n",
      "Requirement already satisfied: pyyaml>=5.1 in /Users/nealcaren/anaconda3/envs/code/lib/python3.10/site-packages (from huggingface-hub<1.0,>=0.16.4->tokenizers>=0.13.0->anthropic) (6.0.1)\n",
      "Requirement already satisfied: requests in /Users/nealcaren/anaconda3/envs/code/lib/python3.10/site-packages (from huggingface-hub<1.0,>=0.16.4->tokenizers>=0.13.0->anthropic) (2.32.3)\n",
      "Requirement already satisfied: tqdm>=4.42.1 in /Users/nealcaren/anaconda3/envs/code/lib/python3.10/site-packages (from huggingface-hub<1.0,>=0.16.4->tokenizers>=0.13.0->anthropic) (4.66.4)\n",
      "Requirement already satisfied: charset-normalizer<4,>=2 in /Users/nealcaren/anaconda3/envs/code/lib/python3.10/site-packages (from requests->huggingface-hub<1.0,>=0.16.4->tokenizers>=0.13.0->anthropic) (3.3.2)\n",
      "Requirement already satisfied: urllib3<3,>=1.21.1 in /Users/nealcaren/anaconda3/envs/code/lib/python3.10/site-packages (from requests->huggingface-hub<1.0,>=0.16.4->tokenizers>=0.13.0->anthropic) (2.2.2)\n",
      "Note: you may need to restart the kernel to use updated packages.\n"
     ]
    }
   ],
   "source": [
    "pip install --upgrade anthropic"
   ]
  },
  {
   "cell_type": "markdown",
   "metadata": {},
   "source": [
    "Here are my directions. They are 1,326 tokens long."
   ]
  },
  {
   "cell_type": "code",
   "execution_count": 66,
   "metadata": {},
   "outputs": [],
   "source": [
    "instructions = '''\n",
    "\n",
    "# Analysis of Direct Quotes, Slogans, and Statements\n",
    "\n",
    "You are an AI assitant tasked with constructing a Markdown table using information from a newspaper article.\n",
    "\n",
    "When analyzing media coverage of protests, it's essential to systematically capture and categorize the key quotes, slogans, chants, and statements made by various participants and stakeholders. This process allows for a clearer understanding of the perspectives, motivations, and messages conveyed during the protest. Whether you’re studying climate demonstrations, social justice movements, or any other form of protest, organizing this information into a structured table can greatly enhance your analysis and presentation of the event.\n",
    "\n",
    "The following instructions provide a step-by-step guide to building a comprehensive table that categorizes and classifies quotes, slogans, chants, and statements from protest-related articles. This table will help you differentiate between the voices of protesters, bystanders, targets, and law enforcement, and will allow you to clearly present the various messages and actions that define the protest.\n",
    "\n",
    "\n",
    "1. **Identify the Content:** \n",
    "   - Start by carefully reading the article and identifying all the direct quotes, slogans, chants, and statements. Highlight or note each instance where someone is directly quoted or where slogans/chants are mentioned.\n",
    "\n",
    "2. **Extract the Content:**\n",
    "   - For each identified content, extract the exact wording used in the article. Ensure you capture the quote, slogan, chant, or statement accurately. Use only direct quotes, ignore paraphrasing or other indirect quotes.\n",
    "\n",
    "3. **Determine the Source:**\n",
    "   - Identify who said or wrote each quote, slogan, chant, or statement. This could be an individual (e.g., a government official), a group (e.g., a protest organization), or an entity (e.g., a company).\n",
    "\n",
    "4. **Classify the Role:**\n",
    "   - Determine the role of the person or group who made the statement. Roles might include:\n",
    "     - **Protester:** The individual or group actively involved in the protest.\n",
    "     - **Bystander:** An observer who is neither directly involved in the protest nor its target.\n",
    "     - **Target:** A person or entity that the protest or action is aimed at.\n",
    "     - **Elected Official:** A person who holds elected or appointed office..\n",
    "     - **Law Enforcement:** Police, government officials, or other authorities responding to the protest.\n",
    "\n",
    "5. **Classify the Type of Content:**\n",
    "   - Determine whether the content is a:\n",
    "     - **Quote:** A direct statement made by an individual or group.\n",
    "     - **Statement:** A formal declaration or assertion made by a group or individual, often in a press release or public statement.\n",
    "     - **Slogan:** A short and memorable phrase used by the protestors, often seen on banners or signs.\n",
    "     - **Chant:** A rhythmic phrase repeated by a crowd, usually during a protest.\n",
    "\n",
    "6. **Create the Table:**\n",
    "   - Set up a table with the following columns:\n",
    "     1. **Quote/Statement:** The exact wording of the quote, slogan, chant, or statement.\n",
    "     2. **Who Said It:** The individual, group, or entity that made the statement or created the slogan/chant.\n",
    "     3. **Description:** A brief description of who the person or group is, including their role or title.\n",
    "     4. **Role:** Classify the person or group as a protester, bystander, target, or law enforcement.\n",
    "     5. **Type:** Classify the content as a quote, statement, slogan, or chant.\n",
    "\n",
    "7. **Populate the Table:**\n",
    "   - Fill in the table with the information you’ve gathered. Ensure that each row corresponds to a specific quote, slogan, chant, or statement, and that all columns are accurately completed.\n",
    "\n",
    "8. **Review for Accuracy:**\n",
    "   - Double-check the table for any errors or omissions. Ensure that the content matches the source material and that the roles and types are correctly assigned.\n",
    "\n",
    "9. **Present the Table:**\n",
    "   - Once the table is complete, it can be presented or used for analysis, ensuring that it provides a clear and organized overview of the key content from the article.\n",
    "\n",
    "### Example:\n",
    "\n",
    "| **Quote/Statement**                                                                                           | **Who Said It**                | **Description**                                         | **Role**            | **Type**           |\n",
    "|---------------------------------------------------------------------------------------------------------------|--------------------------------|---------------------------------------------------------|---------------------|--------------------|\n",
    "| \"These criminal actions are dangerous and stupid. These anarchists are risking not only their own lives, but are also endangering others. We have recommended tough prison sentences. And we obligate airports to secure their facilities significantly better.\" | Nancy Faeser                   | Interior Minister of Germany                            | Law Enforcement     | Quote              |\n",
    "| \"Oil kills\"                                                                                                   | Letzte Generation (Last Generation) | Slogan on banners unfurled by activists                  | Protester           | Slogan             |\n",
    "| \"Sign the treaty\"                                                                                             | Letzte Generation (Last Generation) | Slogan on banners unfurled by activists                  | Protester           | Slogan             |\n",
    "| \"What’s dangerous is your political failure which is dragging us ever deeper into a catastrophe … we’re talking about our existence. About the lives of billions of people.\" | Letzte Generation (Last Generation) | Statement from the group defending their protest         | Protester           | Statement          |\n",
    "| \"Today’s disruptions at several airports are a concerted act of criminal extortion. This is not a peaceful protest and it is not about supposedly higher goals. These are malicious interventions in air traffic and in the personal rights of every traveller who is unable to take their flight as planned.\" | Ralph Beisel                   | Managing Director of the Airport Association ADV         | Target              | Statement          |\n",
    "\n",
    "This set of directions should help in systematically creating a similar table for any article or document.\n",
    "'''"
   ]
  },
  {
   "cell_type": "markdown",
   "metadata": {},
   "source": [
    "My two sample articles, covering different protests."
   ]
  },
  {
   "cell_type": "code",
   "execution_count": 67,
   "metadata": {},
   "outputs": [],
   "source": [
    "article = '''Thousands march in India to protest doctor's rape, murder\n",
    "VOA News\n",
    "Protesters condemn the rape and murder of a doctor inside a government hospital in Kolkata, India, Aug. 14, 2024. \n",
    "Thousands of women took to the streets in several cities across India Wednesday night, holding candles and signs that said \"reclaim the night\" to protest the rape and murder of a 31-year-old doctor in Kolkata last week.\n",
    "\n",
    "Prime Minister Narendra Modi called for strict punishment of crimes against woman, speaking against \"the atrocities committed against our mothers, daughters and sisters.\"\n",
    "\n",
    "\"There is outrage against this in the country,\" he said. \"I can feel this outrage.\"\n",
    "\n",
    "India's top police agency on Wednesday took over the investigation of the case, which prompted a strike by doctors calling for safer working conditions.\n",
    "\n",
    "The woman's body was discovered Friday in a state-run hospital in Kolkata, West Bengal, where she was a resident doctor. An autopsy confirmed she was sexually assaulted and killed.\n",
    "\n",
    "Authorities arrested a police volunteer in connection with the crime.\n",
    "\n",
    "On Monday, thousands of doctors marched in Kolkata and across West Bengal to protest the killing. They demanded justice for the victim and improved security at hospitals.\n",
    "\n",
    "The protest spread nationwide on Tuesday, disrupting hospital services in several Indian cities. More than 8,000 government doctors halted work in all hospital departments except emergency services.\n",
    "\n",
    "In New Delhi, junior doctors protested outside a major government hospital, holding signs that read, \"Doctors are not punching bags,\" according to Reuters.\n",
    "\n",
    "Doctors in government hospitals across several states have suspended elective services indefinitely, calling for swift justice and better workplace safety.\n",
    "\n",
    "Sexual violence against women is a serious issue in India. In 2022, there were nearly 90 reported rapes daily in the country of 1.4 billion people.\n",
    "\n",
    "This case has drawn comparisons to the 2012 gang rape and murder of a young woman on a Delhi bus, which led to significant public outcry and reforms.\n",
    "\n",
    "In response to the 2012 incident, the government introduced harsher penalties for rape, including the death penalty for repeat offenders, and established new sexual offenses such as stalking.\n",
    "\n",
    "Officials who failed to register rape complaints also faced jail sentences.\n",
    "\n",
    "Some information for this report was provided by Agence France-Presse and Reuters.\n",
    "\n",
    "The Voice of America provides news and information in more than 40 languages to an estimated weekly audience of over 326 million people. Stories with the VOA News byline are the work of multiple VOA journalists and may contain information from wire service reports.'''"
   ]
  },
  {
   "cell_type": "code",
   "execution_count": 68,
   "metadata": {},
   "outputs": [],
   "source": [
    "article2 = '''Anti-racism campaigners march again in Belfast\n",
    "6 days ago\n",
    "Lyndsey Telford and Eimear Flanagan\n",
    "BBC News NI\n",
    "\n",
    "BBC Crowds of campaigners lining the street in front of Belfast City Hall BBC\n",
    "Crowds of campaigners lined the street in front of Belfast City Hall\n",
    "Several thousand anti-racism protesters gathered in Belfast city centre on Saturday for another demonstration following a week of disorder and racist attacks.\n",
    "\n",
    "The rally was organised by a collective of organisations, including the trade union movement, United Against Racism and End Deportations Belfast.\n",
    "\n",
    "United Against Racism said the event was intended to be a \"peaceful response to racist violence of recent days\".\n",
    "\n",
    "\"These are our streets, and we will not concede them to the racist forces who want to divide us,\" said the campaign group's chair, Fiona Doran.\n",
    "Marchers gathered in Writers' Square in Belfast with a \"refugees welcome\" flag\n",
    "The demonstration began in Writers' Square at noon on Saturday\n",
    "Those attending Saturday's rally gathered in Writers' Square at noon before marching to the front of Belfast City Hall.\n",
    "\n",
    "Placards with 'Ulster says no to racism' and 'Ulster says yeo to diversity' were among those waved by campaigners.\n",
    "\n",
    "“Today was an amazing celebration of all that is good about our diverse city,” Ms Doran said.\n",
    "\n",
    "“Now more than ever, we are determined to make Belfast an anti-racist city that prides itself on diversity.\n",
    "\n",
    "\"We will continue to fight to overcome the racist policies of the government, which punishes migrants, asylum seekers and refugees for coming here, and demonises people from religious and ethnic minority backgrounds.\"\n",
    "\n",
    "Organisers said about 15,000 people took part in the rally.\n",
    "Attack on mosque\n",
    "\n",
    "Shortly after the rally began, the Police Service of Northern Ireland (PSNI) gave an update on their response to the upsurge in racially-motivated hate crimes.\n",
    "\n",
    "They confirmed they are investigating an attempted petrol bombing of a mosque in Newtownards, County Down.\n",
    "\n",
    "The device failed to ignite when it was thrown at the mosque on Friday, but racist graffiti was daubed on the building.\n",
    "\n",
    "To date, 32 people have been arrested for offences linked to the recent disorder and racist attacks.\n",
    "'Reclaiming our streets'\n",
    "\n",
    "Mairead Sullivan and her daughter Nora attending the rally\n",
    "Mairead Sullivan and her daughter Nora joined the anti-racism protest\n",
    "One protester taking part in Saturday's march said the event was about \"reclaiming our streets\".\n",
    "\n",
    "As they marched down Royal Avenue, the crowds chanted \"Whose streets? Our streets\" and \"Belfast is anti-racist\".\n",
    "\n",
    "Mairead Sullivan and her daughter Nora also attended the parade and said they would protest every week if they needed to.\n",
    "\n",
    "\"I always taught my kids to respect everybody and treat them how you'd want to be treated, and we have to put our words into actions,\" she told BBC News NI.\n",
    "\n",
    "Mairead was born in Belfast but her family moved to the United States to escape the Troubles.\n",
    "\n",
    "She returned 12 years ago with her own family and said she does not want to see a return to “the dark days”.\n",
    "\n",
    "Nora said the large turnout made her \"proud\" of Belfast.\n",
    "\n",
    "\"I think its so important that we stand up and support each other and we're here for the other members of our community,\" she added.\n",
    "\n",
    "\"We're all people. We're all just trying to have the best life we can and its important that we're here and make our voices are heard.\"\n",
    "Campaigners at Writer's Square holding banners and flags\n",
    "United Against Racism helped to organise Saturday's march and rally\n",
    "A number of politicians were also present at Saturday's rally.\n",
    "\n",
    "Claire Hanna, South Belfast and Mid Down MP, said she hoped the large turnout will be \"uplifting and comforting\" for those who feel fearful in the community.\n",
    "\n",
    "\"This was people from every community, every part of this city, saying very clearly that they do not want people to be attacked and scapegoated,\" she said.\n",
    "\n",
    "\"If people are claiming to defend their communities, they need to hear that message loud and clear.\"\n",
    "\n",
    "Sinn Féin assembly member Deirdre Hargey called for those responsible for the violence minorities have faced to stop and be held accountable.\n",
    "\n",
    "\"This is the city of emancipation, of civil rights, and we need to work with communities to ensure that we do build an inclusive society which doesn’t hate on other communities, particularly our minority communities.\"\n",
    "PA Media A woman with dark hair and clothing clapsPA Media\n",
    "Sinn Féin MLA Dierdre Hargey was among politicians at the United Against Racism rally\n",
    "People Before Profit MLA Gerry Carroll said the rally was a \"powerful demonstration\" of diversity within the city and society.\n",
    "\n",
    "\"I hope that it sends a message of support to those people who have been the target of the last week and the last period of time,\" he said.\n",
    "Second large protest within days\n",
    "\n",
    "Saturday's rally was the second large gathering of anti-racism campaigners within two days in the centre of Belfast.\n",
    "\n",
    "On Friday more than 1,000 people gathered outside Belfast City Hall to oppose an anti-immigration protest at the same location.\n",
    "\n",
    "The anti-racism activists outnumbered the anti-immigration protesters by about five to one.\n",
    "\n",
    "The PSNI ensured the opposing sides were kept apart and both groups dispersed peacefully after Friday's demonstrations.\n",
    "'''"
   ]
  },
  {
   "cell_type": "markdown",
   "metadata": {},
   "source": [
    "A function to analyze an article. The `cache_control` block ensures that the system instructions are stored. As far as I can tell, caches don't have an ID number, but instead are identified by their content. After five minutes of non-use, they disappear. "
   ]
  },
  {
   "cell_type": "code",
   "execution_count": 70,
   "metadata": {},
   "outputs": [],
   "source": [
    "import anthropic\n",
    "from IPython.display import Markdown\n",
    "\n",
    "client = anthropic.Anthropic()\n",
    "\n",
    "\n",
    "def analyze_article(article):\n",
    "    response = client.beta.prompt_caching.messages.create(\n",
    "        model=\"claude-3-5-sonnet-20240620\",\n",
    "        max_tokens=2044,\n",
    "        system=[\n",
    "            {\n",
    "                \"type\": \"text\",\n",
    "                \"text\": instructions,\n",
    "                \"cache_control\": {\"type\": \"ephemeral\"},\n",
    "            },\n",
    "        ],\n",
    "        messages=[\n",
    "            {\n",
    "                \"role\": \"user\",\n",
    "                \"content\": article,\n",
    "            }\n",
    "        ],\n",
    "    )\n",
    "    return response"
   ]
  },
  {
   "cell_type": "markdown",
   "metadata": {},
   "source": [
    "Analyze the two articles. For now, I'm ignoring accuracy, although I think it's pretty good."
   ]
  },
  {
   "cell_type": "code",
   "execution_count": 71,
   "metadata": {},
   "outputs": [
    {
     "name": "stdout",
     "output_type": "stream",
     "text": [
      "PromptCachingBetaUsage(cache_creation_input_tokens=1326, cache_read_input_tokens=0, input_tokens=579, output_tokens=211)\n"
     ]
    },
    {
     "data": {
      "text/markdown": [
       "Here's a Markdown table based on the article, focusing on direct quotes, slogans, and statements:\n",
       "\n",
       "| Quote/Statement | Who Said It | Description | Role | Type |\n",
       "|-----------------|-------------|-------------|------|------|\n",
       "| \"reclaim the night\" | Protesters | Slogan on signs held by protesters | Protester | Slogan |\n",
       "| \"There is outrage against this in the country. I can feel this outrage.\" | Narendra Modi | Prime Minister of India | Elected Official | Quote |\n",
       "| \"Doctors are not punching bags\" | Junior doctors | Slogan on signs held by protesting doctors in New Delhi | Protester | Slogan |\n",
       "\n",
       "Note: The article doesn't contain many direct quotes or slogans. Most of the information is presented as paraphrased statements or general descriptions of events. The table includes the few instances of direct quotes and slogans that were explicitly mentioned in the article."
      ],
      "text/plain": [
       "<IPython.core.display.Markdown object>"
      ]
     },
     "execution_count": 71,
     "metadata": {},
     "output_type": "execute_result"
    }
   ],
   "source": [
    "a = analyze_article(article)\n",
    "Markdown(a.content[0].text)"
   ]
  },
  {
   "cell_type": "code",
   "execution_count": 72,
   "metadata": {},
   "outputs": [
    {
     "name": "stdout",
     "output_type": "stream",
     "text": [
      "PromptCachingBetaUsage(cache_creation_input_tokens=0, cache_read_input_tokens=1326, input_tokens=1217, output_tokens=752)\n"
     ]
    },
    {
     "data": {
      "text/markdown": [
       "Here's a Markdown table summarizing the direct quotes, slogans, and statements from the article:\n",
       "\n",
       "| Quote/Statement | Who Said It | Description | Role | Type |\n",
       "|-----------------|-------------|-------------|------|------|\n",
       "| \"These are our streets, and we will not concede them to the racist forces who want to divide us.\" | Fiona Doran | Chair of United Against Racism | Protester | Quote |\n",
       "| \"Today was an amazing celebration of all that is good about our diverse city.\" | Fiona Doran | Chair of United Against Racism | Protester | Quote |\n",
       "| \"Now more than ever, we are determined to make Belfast an anti-racist city that prides itself on diversity.\" | Fiona Doran | Chair of United Against Racism | Protester | Quote |\n",
       "| \"We will continue to fight to overcome the racist policies of the government, which punishes migrants, asylum seekers and refugees for coming here, and demonises people from religious and ethnic minority backgrounds.\" | Fiona Doran | Chair of United Against Racism | Protester | Quote |\n",
       "| \"Whose streets? Our streets\" | Protesters | Chant during the march | Protester | Chant |\n",
       "| \"Belfast is anti-racist\" | Protesters | Chant during the march | Protester | Chant |\n",
       "| \"I always taught my kids to respect everybody and treat them how you'd want to be treated, and we have to put our words into actions.\" | Mairead Sullivan | Protester at the rally | Protester | Quote |\n",
       "| \"I think its so important that we stand up and support each other and we're here for the other members of our community.\" | Nora Sullivan | Protester at the rally | Protester | Quote |\n",
       "| \"We're all people. We're all just trying to have the best life we can and its important that we're here and make our voices are heard.\" | Nora Sullivan | Protester at the rally | Protester | Quote |\n",
       "| \"This was people from every community, every part of this city, saying very clearly that they do not want people to be attacked and scapegoated.\" | Claire Hanna | South Belfast and Mid Down MP | Elected Official | Quote |\n",
       "| \"If people are claiming to defend their communities, they need to hear that message loud and clear.\" | Claire Hanna | South Belfast and Mid Down MP | Elected Official | Quote |\n",
       "| \"This is the city of emancipation, of civil rights, and we need to work with communities to ensure that we do build an inclusive society which doesn't hate on other communities, particularly our minority communities.\" | Deirdre Hargey | Sinn Féin assembly member | Elected Official | Quote |\n",
       "| \"I hope that it sends a message of support to those people who have been the target of the last week and the last period of time.\" | Gerry Carroll | People Before Profit MLA | Elected Official | Quote |\n",
       "| \"Ulster says no to racism\" | Protesters | Slogan on placards | Protester | Slogan |\n",
       "| \"Ulster says yeo to diversity\" | Protesters | Slogan on placards | Protester | Slogan |\n",
       "| \"Refugees welcome\" | Protesters | Flag at the rally | Protester | Slogan |"
      ],
      "text/plain": [
       "<IPython.core.display.Markdown object>"
      ]
     },
     "execution_count": 72,
     "metadata": {},
     "output_type": "execute_result"
    }
   ],
   "source": [
    "b = analyze_article(article2)\n",
    "Markdown(b.content[0].text)"
   ]
  },
  {
   "cell_type": "markdown",
   "metadata": {},
   "source": [
    "Works great. I had Claude figure out how much this saves me, figuring the average article length would be 1,000 tokens and the average returned table would be 500 tokens. "
   ]
  },
  {
   "cell_type": "code",
   "execution_count": 73,
   "metadata": {},
   "outputs": [
    {
     "name": "stdout",
     "output_type": "stream",
     "text": [
      "For 10 calls:\n",
      "  Total cost without cache: $0.34\n",
      "  Total cost with cache: $0.31\n",
      "  Total savings: $0.03\n",
      "\n",
      "For 100 calls:\n",
      "  Total cost without cache: $3.44\n",
      "  Total cost with cache: $3.08\n",
      "  Total savings: $0.35\n",
      "\n",
      "For 1000 calls:\n",
      "  Total cost without cache: $34.37\n",
      "  Total cost with cache: $30.79\n",
      "  Total savings: $3.58\n",
      "\n"
     ]
    }
   ],
   "source": [
    "# Constants\n",
    "BASE_INPUT_PRICE = 3 / 1000000  # $3 per million tokens\n",
    "CACHE_WRITE_PRICE = 3.75 / 1000000  # $3.75 per million tokens\n",
    "CACHE_HIT_PRICE = 0.30 / 1000000  # $0.30 per million tokens\n",
    "OUTPUT_PRICE = 15 / 1000000  # $15 per million tokens\n",
    "\n",
    "CACHE_SIZE = 1326\n",
    "REGULAR_INPUT_SIZE = 1000\n",
    "REGULAR_OUTPUT_SIZE = 500\n",
    "\n",
    "def calculate_costs_and_savings(num_calls):\n",
    "    # Calculate cost without cache\n",
    "    regular_cost = (BASE_INPUT_PRICE * (CACHE_SIZE + REGULAR_INPUT_SIZE) * num_calls) + (OUTPUT_PRICE * (CACHE_SIZE + REGULAR_OUTPUT_SIZE) * num_calls)\n",
    "    \n",
    "    # Calculate cost with cache\n",
    "    cache_cost = (CACHE_WRITE_PRICE * CACHE_SIZE)  # First call writes to cache\n",
    "    cache_cost += (CACHE_HIT_PRICE * CACHE_SIZE * (num_calls - 1))  # Subsequent calls use cache\n",
    "    cache_cost += (BASE_INPUT_PRICE * REGULAR_INPUT_SIZE * num_calls)  # Regular input for all calls\n",
    "    cache_cost += (OUTPUT_PRICE * (CACHE_SIZE + REGULAR_OUTPUT_SIZE) * num_calls)  # Output cost\n",
    "    \n",
    "    # Calculate savings\n",
    "    savings = regular_cost - cache_cost\n",
    "    \n",
    "    return regular_cost, cache_cost, savings\n",
    "\n",
    "# Calculate costs and savings for different number of calls\n",
    "call_counts = [10, 100, 1000]\n",
    "\n",
    "for calls in call_counts:\n",
    "    regular_cost, cache_cost, savings = calculate_costs_and_savings(calls)\n",
    "    print(f\"For {calls} calls:\")\n",
    "    print(f\"  Total cost without cache: ${regular_cost:.2f}\")\n",
    "    print(f\"  Total cost with cache: ${cache_cost:.2f}\")\n",
    "    print(f\"  Total savings: ${savings:.2f}\")\n",
    "    print()"
   ]
  },
  {
   "cell_type": "markdown",
   "metadata": {},
   "source": [
    "Since the output is the expsenive part, you don't save much here, but it does reduce the total cost by about 10% by only adding one line of code."
   ]
  }
 ],
 "metadata": {
  "kernelspec": {
   "display_name": "code",
   "language": "python",
   "name": "python3"
  },
  "language_info": {
   "codemirror_mode": {
    "name": "ipython",
    "version": 3
   },
   "file_extension": ".py",
   "mimetype": "text/x-python",
   "name": "python",
   "nbconvert_exporter": "python",
   "pygments_lexer": "ipython3",
   "version": "3.10.13"
  }
 },
 "nbformat": 4,
 "nbformat_minor": 2
}
