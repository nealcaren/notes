{
 "cells": [
  {
   "cell_type": "code",
   "execution_count": 11,
   "metadata": {},
   "outputs": [
    {
     "name": "stdout",
     "output_type": "stream",
     "text": [
      "Requirement already satisfied: nomic[local] in /Users/nealcaren/anaconda3/envs/code/lib/python3.10/site-packages (3.0.29)\n",
      "Requirement already satisfied: click in /Users/nealcaren/anaconda3/envs/code/lib/python3.10/site-packages (from nomic[local]) (8.1.7)\n",
      "Requirement already satisfied: jsonlines in /Users/nealcaren/anaconda3/envs/code/lib/python3.10/site-packages (from nomic[local]) (4.0.0)\n",
      "Requirement already satisfied: loguru in /Users/nealcaren/anaconda3/envs/code/lib/python3.10/site-packages (from nomic[local]) (0.7.2)\n",
      "Requirement already satisfied: rich in /Users/nealcaren/anaconda3/envs/code/lib/python3.10/site-packages (from nomic[local]) (13.7.0)\n",
      "Requirement already satisfied: requests in /Users/nealcaren/anaconda3/envs/code/lib/python3.10/site-packages (from nomic[local]) (2.31.0)\n",
      "Requirement already satisfied: numpy in /Users/nealcaren/anaconda3/envs/code/lib/python3.10/site-packages (from nomic[local]) (1.26.3)\n",
      "Requirement already satisfied: pandas in /Users/nealcaren/anaconda3/envs/code/lib/python3.10/site-packages (from nomic[local]) (2.1.4)\n",
      "Requirement already satisfied: pydantic in /Users/nealcaren/anaconda3/envs/code/lib/python3.10/site-packages (from nomic[local]) (2.5.3)\n",
      "Requirement already satisfied: tqdm in /Users/nealcaren/anaconda3/envs/code/lib/python3.10/site-packages (from nomic[local]) (4.66.1)\n",
      "Requirement already satisfied: pyarrow in /Users/nealcaren/anaconda3/envs/code/lib/python3.10/site-packages (from nomic[local]) (16.0.0)\n",
      "Requirement already satisfied: pillow in /Users/nealcaren/anaconda3/envs/code/lib/python3.10/site-packages (from nomic[local]) (10.2.0)\n",
      "Requirement already satisfied: pyjwt in /Users/nealcaren/anaconda3/envs/code/lib/python3.10/site-packages (from nomic[local]) (2.8.0)\n",
      "Requirement already satisfied: gpt4all<3,>=2.5.0 in /Users/nealcaren/anaconda3/envs/code/lib/python3.10/site-packages (from nomic[local]) (2.6.0)\n",
      "Requirement already satisfied: typing-extensions>=4.3.0 in /Users/nealcaren/anaconda3/envs/code/lib/python3.10/site-packages (from gpt4all<3,>=2.5.0->nomic[local]) (4.9.0)\n",
      "Requirement already satisfied: attrs>=19.2.0 in /Users/nealcaren/anaconda3/envs/code/lib/python3.10/site-packages (from jsonlines->nomic[local]) (23.2.0)\n",
      "Requirement already satisfied: python-dateutil>=2.8.2 in /Users/nealcaren/anaconda3/envs/code/lib/python3.10/site-packages (from pandas->nomic[local]) (2.8.2)\n",
      "Requirement already satisfied: pytz>=2020.1 in /Users/nealcaren/anaconda3/envs/code/lib/python3.10/site-packages (from pandas->nomic[local]) (2023.3.post1)\n",
      "Requirement already satisfied: tzdata>=2022.1 in /Users/nealcaren/anaconda3/envs/code/lib/python3.10/site-packages (from pandas->nomic[local]) (2023.3)\n",
      "Requirement already satisfied: annotated-types>=0.4.0 in /Users/nealcaren/anaconda3/envs/code/lib/python3.10/site-packages (from pydantic->nomic[local]) (0.6.0)\n",
      "Requirement already satisfied: pydantic-core==2.14.6 in /Users/nealcaren/anaconda3/envs/code/lib/python3.10/site-packages (from pydantic->nomic[local]) (2.14.6)\n",
      "Requirement already satisfied: charset-normalizer<4,>=2 in /Users/nealcaren/anaconda3/envs/code/lib/python3.10/site-packages (from requests->nomic[local]) (3.3.2)\n",
      "Requirement already satisfied: idna<4,>=2.5 in /Users/nealcaren/anaconda3/envs/code/lib/python3.10/site-packages (from requests->nomic[local]) (3.6)\n",
      "Requirement already satisfied: urllib3<3,>=1.21.1 in /Users/nealcaren/anaconda3/envs/code/lib/python3.10/site-packages (from requests->nomic[local]) (2.1.0)\n",
      "Requirement already satisfied: certifi>=2017.4.17 in /Users/nealcaren/anaconda3/envs/code/lib/python3.10/site-packages (from requests->nomic[local]) (2023.11.17)\n",
      "Requirement already satisfied: markdown-it-py>=2.2.0 in /Users/nealcaren/anaconda3/envs/code/lib/python3.10/site-packages (from rich->nomic[local]) (3.0.0)\n",
      "Requirement already satisfied: pygments<3.0.0,>=2.13.0 in /Users/nealcaren/anaconda3/envs/code/lib/python3.10/site-packages (from rich->nomic[local]) (2.17.2)\n",
      "Requirement already satisfied: mdurl~=0.1 in /Users/nealcaren/anaconda3/envs/code/lib/python3.10/site-packages (from markdown-it-py>=2.2.0->rich->nomic[local]) (0.1.2)\n",
      "Requirement already satisfied: six>=1.5 in /Users/nealcaren/anaconda3/envs/code/lib/python3.10/site-packages (from python-dateutil>=2.8.2->pandas->nomic[local]) (1.16.0)\n",
      "Note: you may need to restart the kernel to use updated packages.\n"
     ]
    }
   ],
   "source": [
    "pip install --upgrade \"nomic[local]\" "
   ]
  },
  {
   "cell_type": "code",
   "execution_count": 2,
   "metadata": {},
   "outputs": [
    {
     "name": "stdout",
     "output_type": "stream",
     "text": [
      "{'prompt_tokens': 36, 'total_tokens': 36}\n",
      "(2, 768)\n"
     ]
    }
   ],
   "source": [
    "from nomic import embed\n",
    "import numpy as np\n",
    "\n",
    "output = embed.text(\n",
    "    texts=[\n",
    "        'Nomic Embed now supports local and dynamic inference to save you inference latency and cost!',\n",
    "        'Hey Nomic, why don\\'t you release a multimodal model soon?',\n",
    "    ],\n",
    "    model='nomic-embed-text-v1.5',\n",
    "    task_type=\"search_document\",\n",
    "    inference_mode='local',\n",
    "    dimensionality=768,\n",
    ")\n",
    "\n",
    "print(output['usage'])\n",
    "\n",
    "embeddings = np.array(output['embeddings'])\n",
    "\n",
    "print(embeddings.shape)"
   ]
  },
  {
   "cell_type": "code",
   "execution_count": null,
   "metadata": {},
   "outputs": [],
   "source": []
  }
 ],
 "metadata": {
  "kernelspec": {
   "display_name": "code",
   "language": "python",
   "name": "python3"
  },
  "language_info": {
   "codemirror_mode": {
    "name": "ipython",
    "version": 3
   },
   "file_extension": ".py",
   "mimetype": "text/x-python",
   "name": "python",
   "nbconvert_exporter": "python",
   "pygments_lexer": "ipython3",
   "version": "3.10.13"
  }
 },
 "nbformat": 4,
 "nbformat_minor": 2
}
