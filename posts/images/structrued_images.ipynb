{
 "cells": [
  {
   "cell_type": "raw",
   "metadata": {
    "vscode": {
     "languageId": "raw"
    }
   },
   "source": [
    "---\n",
    "title: Structured Data from Images\n",
    "date: 2024-05-21\n",
    "description: Analyzing protest pictures with ChatGPT\n",
    "categories: [OpenAI, automation]\n",
    "image: photographer.webp\n",
    "draft: false\n",
    "---"
   ]
  },
  {
   "cell_type": "markdown",
   "metadata": {},
   "source": [
    "I wanted to test the new OpenAI model (GPT-4o) to see how well it could extract information about a photo. In the past, I used the older GPT-4 Vision model for text extraction, but it costs twice as much. To start, I selected a sample image from the Wikipedia page on the [2020 BLM protests](https://en.wikipedia.org/wiki/George_Floyd_protests).\n",
    "\n",
    "\n",
    "![](Minneapolis_05-28-20.jpeg)"
   ]
  },
  {
   "cell_type": "markdown",
   "metadata": {},
   "source": [
    "To pass the image, it is first encoded in base64, a process that converts the image into a string.  I was initially unfamiliar with this process, but it effectively represents the image as text. I then send the string to the OpenAI API with the instruction, 'Describe this photo.'"
   ]
  },
  {
   "cell_type": "code",
   "execution_count": 61,
   "metadata": {},
   "outputs": [],
   "source": [
    "from openai import OpenAI\n",
    "import base64\n",
    "\n",
    "def encode_image(image_path: str) -> str:\n",
    "    \"\"\"Encode an image to a base64 string.\"\"\"\n",
    "    with open(image_path, \"rb\") as image_file:\n",
    "        return base64.b64encode(image_file.read()).decode(\"utf-8\")\n",
    "image_path = \"Minneapolis_05-28-20.jpeg\"\n",
    "base64_image = encode_image(image_path)\n",
    "\n",
    "client = OpenAI()   \n",
    "\n",
    "response = client.chat.completions.create(\n",
    "        model=\"gpt-4o\",\n",
    "        \n",
    "        messages=[\n",
    "            {\n",
    "                \"role\": \"user\",\n",
    "                \"content\": [\n",
    "                {\"type\": \"text\", \"text\": 'Describe this photo.'},\n",
    "                {\n",
    "                    \"type\": \"image_url\",\n",
    "                    \"image_url\": {\n",
    "                        \"url\": f\"data:image/jpeg;base64,{base64_image}\",\n",
    "                    },\n",
    "                },\n",
    "            ],\n",
    "            },\n",
    "        ],\n",
    "    )"
   ]
  },
  {
   "cell_type": "markdown",
   "metadata": {},
   "source": [
    "Nine seconds later, this was the response:"
   ]
  },
  {
   "cell_type": "code",
   "execution_count": 62,
   "metadata": {},
   "outputs": [
    {
     "data": {
      "text/markdown": [
       "The photo depicts a large crowd of people participating in a protest or rally. Many are holding signs with messages, including one prominently displayed near the center that reads \"I CAN'T BREATHE.\" The setting appears to be an urban environment, likely near downtown or a central city area, given the presence of multi-story buildings, trees, street signs, and vehicles in the background. Most of the participants are wearing casual clothing and several people are visibly wearing face masks. The atmosphere seems charged and unified, with participants actively raising their signs and making their voices heard. The protest appears to be peaceful."
      ],
      "text/plain": [
       "<IPython.core.display.Markdown object>"
      ]
     },
     "execution_count": 62,
     "metadata": {},
     "output_type": "execute_result"
    }
   ],
   "source": [
    "from IPython.display import Markdown\n",
    "\n",
    "Markdown(response.choices[0].message.content)"
   ]
  },
  {
   "cell_type": "markdown",
   "metadata": {},
   "source": [
    "The cost, based on current API prices for GPT-4o of $5.00 per 1M tokens for input and $15.00 per 1M tokens for output, is about half a penny, which is pretty reasonable, even to scale up."
   ]
  },
  {
   "cell_type": "code",
   "execution_count": 63,
   "metadata": {},
   "outputs": [
    {
     "data": {
      "text/plain": [
       "0.005665"
      ]
     },
     "execution_count": 63,
     "metadata": {},
     "output_type": "execute_result"
    }
   ],
   "source": [
    "response.usage.prompt_tokens*(5.00/1000000) + response.usage.completion_tokens*(15/1000000)"
   ]
  },
  {
   "cell_type": "markdown",
   "metadata": {},
   "source": [
    "Version 2.0 is a little more advanced. I ask a series of specific questions about the photo, and I use Pydantic to structure the response, passed to OpenAI as a `function`. This ensures that I get a JSON response with consistent feature names and and data types. I put it all in `analyze_protest_image()`."
   ]
  },
  {
   "cell_type": "code",
   "execution_count": 64,
   "metadata": {},
   "outputs": [
    {
     "data": {
      "text/plain": [
       "{'police_presence': False,\n",
       " 'sign_texts': [\"I CAN'T BREATHE\", 'STOP POLICE BRUTALITY'],\n",
       " 'number_of_protesters': 100,\n",
       " 'description': 'The image depicts a large group of protesters gathered in an urban area, possibly near a building or office complex. People are densely packed and holding up various signs. There is no visible police presence. The atmosphere appears active and engaged.',\n",
       " 'emotions': ['determined', 'angry'],\n",
       " 'actions': ['standing', 'marching', 'holding signs']}"
      ]
     },
     "execution_count": 64,
     "metadata": {},
     "output_type": "execute_result"
    }
   ],
   "source": [
    "import base64\n",
    "import json\n",
    "from typing import List\n",
    "from pydantic import BaseModel, Field\n",
    "from openai import OpenAI\n",
    "import pandas as pd\n",
    "\n",
    "class ProtestAnalysis(BaseModel):\n",
    "    police_presence: bool = Field(\n",
    "        ..., description=\"Boolean indicating the presence of police in the image.\"\n",
    "    )\n",
    "    sign_texts: List[str] = Field(\n",
    "        ..., description=\"Texts written on signs in the image.\"\n",
    "    )\n",
    "    number_of_protesters: int = Field(\n",
    "        ..., description=\"Estimated number of protesters in the image.\"\n",
    "    )\n",
    "    description: str = Field(\n",
    "        ..., description=\"General description of the scene in the image.\"\n",
    "    )\n",
    "    emotions: List[str] = Field(\n",
    "        ..., description=\"List of visible emotions on people's faces in the image.\"\n",
    "    )\n",
    "    actions: List[str] = Field(\n",
    "        ...,\n",
    "        description=\"List of actions people are performing in the image, such as standing, marching, etc.\",\n",
    "    )\n",
    "\n",
    "    class Config:\n",
    "        title = \"Protest Analysis Model\"\n",
    "        description = \"A model representing an analysis of a protest image, including police presence, texts on signs, number of people, description, visible emotions, and actions.\"\n",
    "\n",
    "\n",
    "protest_instructions = \"\"\"\n",
    "Your role is to analyze an image from a protest and answer the following questions:\n",
    "1. Is there a police presence visible in the image? If so, describe it.\n",
    "2. What texts are written on any visible signs? List all texts.\n",
    "3. Estimate the number of protesters present in the image.\n",
    "4. Provide a general description of the scene in the image.\n",
    "5. List any visible emotions on people's faces in the image.\n",
    "6. List the actions people are performing in the image, such as standing, marching, etc.\n",
    "Provide detailed and accurate responses based on the visual information in the image.\n",
    "\"\"\"\n",
    "\n",
    "\n",
    "def encode_image(image_path: str) -> str:\n",
    "    \"\"\"Encode an image to a base64 string.\"\"\"\n",
    "    with open(image_path, \"rb\") as image_file:\n",
    "        return base64.b64encode(image_file.read()).decode(\"utf-8\")\n",
    "\n",
    "\n",
    "def analyze_protest_image(image_path: str):\n",
    "    \"\"\"Analyze a protest image to identify police presence, texts on signs, number of people, description, visible emotions, and actions.\"\"\"\n",
    "    base64_image = encode_image(image_path)\n",
    "\n",
    "    client = OpenAI()\n",
    "\n",
    "    response = client.chat.completions.create(\n",
    "        model=\"gpt-4o\",\n",
    "        tool_choice= \"required\",\n",
    "        tools=[\n",
    "            {\n",
    "    \"type\": \"function\",\n",
    "    \"function\": {\n",
    "                \"name\": \"protest_analysis\",\n",
    "                \"description\": \"Analyze protest image.\",\n",
    "                \"parameters\": ProtestAnalysis.model_json_schema(),\n",
    "            } }\n",
    "        ],\n",
    "        messages=[\n",
    "            {\"role\": \"system\", \"content\": protest_instructions},\n",
    "            {\n",
    "                \"role\": \"user\",\n",
    "                \"content\": [\n",
    "                {\"type\": \"text\", \"text\": protest_instructions},\n",
    "                {\n",
    "                    \"type\": \"image_url\",\n",
    "                    \"image_url\": {\n",
    "                        \"url\": f\"data:image/jpeg;base64,{base64_image}\",\n",
    "                    },\n",
    "                },\n",
    "            ],\n",
    "            },\n",
    "        ],\n",
    "        max_tokens=3300,\n",
    "    )\n",
    "    return json.loads(response.choices[0].message.tool_calls[0].function.arguments)\n",
    "\n",
    "\n",
    "# Example usage\n",
    "image_path = \"Minneapolis_05-28-20.jpeg\"\n",
    "\n",
    "result = analyze_protest_image(image_path)\n",
    "result"
   ]
  },
  {
   "cell_type": "markdown",
   "metadata": {},
   "source": [
    "The results appear plausible. By requiring `number_of_protesters` to be an integer, ChatGPT is compelled to select a specific value. Typically, it is hesitant to provide such precise figures.\n",
    "\n",
    "Let's use the function again on  a [different image](https://en.wikipedia.org/wiki/Protest) from Wikpedia. \n",
    "\n",
    "![](Demonstration_against_Ahmadinejad_in_Rio.jpg)"
   ]
  },
  {
   "cell_type": "code",
   "execution_count": 31,
   "metadata": {},
   "outputs": [
    {
     "data": {
      "text/plain": [
       "{'police_presence': False,\n",
       " 'sign_texts': ['NÃO Ahmadinejad', 'not welcome', 'Ahmadinejad'],\n",
       " 'number_of_people': 50,\n",
       " 'description': 'Group of people protesting, several holding signs and banners, with some banners and shirts opposing Ahmadinejad. The protest appears to be taking place outdoors with a hilly landscape in the background.',\n",
       " 'emotions': ['determination', 'anger'],\n",
       " 'actions': ['standing', 'talking', 'holding signs']}"
      ]
     },
     "execution_count": 31,
     "metadata": {},
     "output_type": "execute_result"
    }
   ],
   "source": [
    "analyze_protest_image('Demonstration_against_Ahmadinejad_in_Rio.jpg')"
   ]
  },
  {
   "cell_type": "markdown",
   "metadata": {},
   "source": [
    "Not sure I see \"anger\".\n",
    "\n",
    "One more time, this time of a protester being arrested.\n",
    "\n",
    "![](George_Floyd_Protest,_Columbus_(May_30th).jpg)"
   ]
  },
  {
   "cell_type": "code",
   "execution_count": 66,
   "metadata": {},
   "outputs": [
    {
     "data": {
      "text/plain": [
       "{'police_presence': True,\n",
       " 'sign_texts': [],\n",
       " 'number_of_protesters': 1,\n",
       " 'description': \"The image depicts a protest scene with a police presence. A protester is being detained by a police officer wearing riot gear and a gas mask. The police officer appears to be directing the protester towards a police vehicle. The protester is wearing casual clothes and a mask with a floral design. Two police vehicles are visible in the background. The setting appears to be an urban area in front of a building with the address '10 West Broad'.\",\n",
       " 'emotions': ['determination', 'anxiety'],\n",
       " 'actions': ['being detained']}"
      ]
     },
     "execution_count": 66,
     "metadata": {},
     "output_type": "execute_result"
    }
   ],
   "source": [
    "analyze_protest_image('George_Floyd_Protest,_Columbus_(May_30th).jpg')"
   ]
  },
  {
   "cell_type": "markdown",
   "metadata": {},
   "source": [
    "Really loves \"determination.\"\n",
    "\n",
    "Lots of directions for future 3.0 version, such as: \n",
    "\n",
    "* Limiting actions to predefined categories.\n",
    "* Providing more detailed descriptions of police roles.\n",
    "* Considering the removal of emotional elements, as they were the most ambiguous.\""
   ]
  }
 ],
 "metadata": {
  "kernelspec": {
   "display_name": "code",
   "language": "python",
   "name": "python3"
  },
  "language_info": {
   "codemirror_mode": {
    "name": "ipython",
    "version": 3
   },
   "file_extension": ".py",
   "mimetype": "text/x-python",
   "name": "python",
   "nbconvert_exporter": "python",
   "pygments_lexer": "ipython3",
   "version": "3.10.13"
  }
 },
 "nbformat": 4,
 "nbformat_minor": 2
}
